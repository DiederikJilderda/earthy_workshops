{
 "cells": [
  {
   "cell_type": "markdown",
   "source": [
    "# W2 - Geometry & Topoology\n",
    "\n",
    "In this workshop we will learn about mesh data structures, how to import, visualize and export them in python. We will also learn about basic mesh manipulations."
   ],
   "metadata": {}
  },
  {
   "cell_type": "markdown",
   "source": [
    "## 0. Initialization"
   ],
   "metadata": {}
  },
  {
   "cell_type": "markdown",
   "source": [
    "### 0.1. Importing libraries "
   ],
   "metadata": {}
  },
  {
   "cell_type": "code",
   "execution_count": 1,
   "source": [
    "# basic libraries\n",
    "import numpy as np\n",
    "\n",
    "# computational geometry libraries\n",
    "import pyvista as pv\n",
    "from compas.datastructures import Mesh as CompasMesh\n",
    "from compas_plotters.meshplotter import MeshPlotter\n",
    "\n",
    "# libraries for connection to grasshopper (speckle)\n",
    "from specklepy.api.client import SpeckleClient\n",
    "from specklepy.api.credentials import get_default_account\n",
    "from specklepy.transports.server import ServerTransport\n",
    "from specklepy.api import operations\n",
    "\n",
    "# Earthy Bridge\n",
    "import earthy_bridge as eb\n",
    "\n",
    "# extra IPython utilities\n",
    "from IPython.display import display"
   ],
   "outputs": [],
   "metadata": {}
  },
  {
   "cell_type": "markdown",
   "source": [
    "### 0.2. Establish connection to speckle"
   ],
   "metadata": {}
  },
  {
   "cell_type": "code",
   "execution_count": 2,
   "source": [
    "# initialise the client\n",
    "client = SpeckleClient(host=\"speckle.xyz\", use_ssl=True)\n",
    "\n",
    "# authenticate the client with a token\n",
    "account = get_default_account()\n",
    "client.authenticate(token=account.token)\n",
    "\n",
    "# use that stream id to get the stream from the server\n",
    "earthy_w2_stream = client.stream.get(id=\"5be382cdb7\")\n",
    "\n",
    "# creating a server transport \n",
    "transport = ServerTransport(client=client, stream_id=earthy_w2_stream.id)"
   ],
   "outputs": [],
   "metadata": {}
  },
  {
   "cell_type": "markdown",
   "source": [
    "## 1. Mesh In"
   ],
   "metadata": {}
  },
  {
   "cell_type": "markdown",
   "source": [
    "### 1.1. Importing OBJ files"
   ],
   "metadata": {}
  },
  {
   "cell_type": "code",
   "execution_count": 3,
   "source": [
    "base_grid_filepath = \"../data/base_grid.obj\"\n",
    "base_grid_mesh = CompasMesh.from_obj(base_grid_filepath)\n",
    "eb.compas_to_pyvista(base_grid_mesh).plot(color='#abd8ff', show_edges=True)"
   ],
   "outputs": [
    {
     "output_type": "display_data",
     "data": {
      "text/plain": [
       "ViewInteractiveWidget(height=768, layout=Layout(height='auto', width='100%'), width=1024)"
      ],
      "application/vnd.jupyter.widget-view+json": {
       "version_major": 2,
       "version_minor": 0,
       "model_id": "7c299853e904453eb0f53c0499fb2d95"
      }
     },
     "metadata": {}
    }
   ],
   "metadata": {}
  },
  {
   "cell_type": "markdown",
   "source": [
    "### 1.2. Importing from Grasshopper (Speckle)"
   ],
   "metadata": {}
  },
  {
   "cell_type": "code",
   "execution_count": null,
   "source": [
    "# find base box reference id\n",
    "last_geo_ref = client.commit.list(earthy_w2_stream.id)[0].referencedObject\n",
    "\n",
    "# this receives the object back from the transport.\n",
    "received_mesh = operations.receive(obj_id=last_geo_ref, remote_transport=transport)"
   ],
   "outputs": [],
   "metadata": {}
  },
  {
   "cell_type": "code",
   "execution_count": 6,
   "source": [
    "eb.speckle_to_pyvista(received_mesh).plot(color='#abd8ff', show_edges=True)"
   ],
   "outputs": [
    {
     "output_type": "display_data",
     "data": {
      "text/plain": [
       "ViewInteractiveWidget(height=768, layout=Layout(height='auto', width='100%'), width=1024)"
      ],
      "application/vnd.jupyter.widget-view+json": {
       "version_major": 2,
       "version_minor": 0,
       "model_id": "28e6455b1cce49a1b2fbffc575b961bc"
      }
     },
     "metadata": {}
    }
   ],
   "metadata": {}
  },
  {
   "cell_type": "markdown",
   "source": [
    "## 2. Mesh Manipulation & Analysis"
   ],
   "metadata": {}
  },
  {
   "cell_type": "markdown",
   "source": [
    "### 2.1. Mesh Data Structure "
   ],
   "metadata": {}
  },
  {
   "cell_type": "code",
   "execution_count": 24,
   "source": [
    "# construct the compas mesh\n",
    "(V, F) = eb.speckle_to_vertices_and_faces(received_mesh)\n",
    "\n",
    "# display(\"Vertices: \", V)\n",
    "# display(\"Faces: \", F)"
   ],
   "outputs": [],
   "metadata": {}
  },
  {
   "cell_type": "markdown",
   "source": [
    "### 2.2. Basic Mesh Transformation"
   ],
   "metadata": {}
  },
  {
   "cell_type": "code",
   "execution_count": 16,
   "source": [
    "# scale in Y direction\n",
    "edited_V = np.array(V) * np.array([1,1.5,1])"
   ],
   "outputs": [],
   "metadata": {}
  },
  {
   "cell_type": "code",
   "execution_count": 21,
   "source": [
    "pv_edited_mesh = eb.vertices_and_faces_to_pyvista(edited_V, F)\n",
    "pv_edited_mesh.plot()"
   ],
   "outputs": [
    {
     "output_type": "display_data",
     "data": {
      "text/plain": [
       "ViewInteractiveWidget(height=768, layout=Layout(height='auto', width='100%'), width=1024)"
      ],
      "application/vnd.jupyter.widget-view+json": {
       "version_major": 2,
       "version_minor": 0,
       "model_id": "874c103887aa4293929f3914e78f6d95"
      }
     },
     "metadata": {}
    }
   ],
   "metadata": {}
  },
  {
   "cell_type": "code",
   "execution_count": 20,
   "source": [],
   "outputs": [
    {
     "output_type": "display_data",
     "data": {
      "text/plain": [
       "ViewInteractiveWidget(height=768, layout=Layout(height='auto', width='100%'), width=1024)"
      ],
      "application/vnd.jupyter.widget-view+json": {
       "version_major": 2,
       "version_minor": 0,
       "model_id": "1cb5228e296547ed9d5761355c955b2e"
      }
     },
     "metadata": {}
    }
   ],
   "metadata": {}
  },
  {
   "cell_type": "markdown",
   "source": [
    "### 2.3. Dual"
   ],
   "metadata": {}
  },
  {
   "cell_type": "code",
   "execution_count": null,
   "source": [
    "# construct the compas mesh\n",
    "edited_mesh_compas = CompasMesh.from_vertices_and_faces(edited_V,received_mesh_F)"
   ],
   "outputs": [],
   "metadata": {}
  },
  {
   "cell_type": "code",
   "execution_count": null,
   "source": [
    "v, f = received_mesh_compas.to_vertices_and_faces()\n",
    "np.array(f)"
   ],
   "outputs": [],
   "metadata": {}
  },
  {
   "cell_type": "code",
   "execution_count": null,
   "source": [
    "dual_mesh = received_mesh_compas.dual()\n",
    "dV, dF = dual_mesh.to_vertices_and_faces()"
   ],
   "outputs": [],
   "metadata": {}
  },
  {
   "cell_type": "code",
   "execution_count": null,
   "source": [
    "# plot the mesh\n",
    "plotter = MeshPlotter(dual_mesh, figsize=(5, 5))\n",
    "plotter.draw_edges()\n",
    "plotter.draw_vertices(radius=.05)\n",
    "plotter.draw_faces()\n",
    "plotter.show()"
   ],
   "outputs": [],
   "metadata": {}
  },
  {
   "cell_type": "code",
   "execution_count": null,
   "source": [
    "mp.plot(np.array(dV), np.array(dF))"
   ],
   "outputs": [],
   "metadata": {}
  },
  {
   "cell_type": "markdown",
   "source": [
    "## 3. Mesh Out"
   ],
   "metadata": {}
  },
  {
   "cell_type": "markdown",
   "source": [
    "### 3.1. Saving OBJ files"
   ],
   "metadata": {}
  },
  {
   "cell_type": "code",
   "execution_count": null,
   "source": [
    "# save the mesh into an OBJ file\n",
    "edited_mesh_compas.to_obj(\"../data/edited_mesh.obj\")"
   ],
   "outputs": [],
   "metadata": {}
  },
  {
   "cell_type": "markdown",
   "source": [
    "### 3.2. Exporting to Grasshopper (Speckle)"
   ],
   "metadata": {}
  },
  {
   "cell_type": "code",
   "execution_count": null,
   "source": [
    "# construct speckle mesh\n",
    "edited_mesh_speckle = c_s_bridge.compas_to_speckle(edited_mesh_compas)"
   ],
   "outputs": [],
   "metadata": {}
  },
  {
   "cell_type": "code",
   "execution_count": null,
   "source": [
    "# Serialises the block and sends it to the transport\n",
    "edited_mesh_hash = operations.send(base=edited_mesh_speckle, transports=[transport])\n",
    "\n",
    "# creating a commit on your stream with this object\n",
    "commid_id = client.commit.create(\n",
    "    stream_id=earthy_w2_stream.id, \n",
    "    object_id=edited_mesh_hash, \n",
    "    message=\"edited_mesh\",\n",
    "    )"
   ],
   "outputs": [],
   "metadata": {}
  },
  {
   "cell_type": "markdown",
   "source": [
    "## Credits"
   ],
   "metadata": {}
  },
  {
   "cell_type": "code",
   "execution_count": null,
   "source": [
    "__author__ = \"Shervin Azadi\"\n",
    "__license__ = \"MIT\"\n",
    "__version__ = \"1.0\"\n",
    "__url__ = \"https://github.com/shervinazadi/earthy_workshops\"\n",
    "__summary__ = \"Earthy Design Studio Workshop on Geometry and Topology\""
   ],
   "outputs": [],
   "metadata": {}
  }
 ],
 "metadata": {
  "orig_nbformat": 4,
  "language_info": {
   "name": "python",
   "version": "3.8.5",
   "mimetype": "text/x-python",
   "codemirror_mode": {
    "name": "ipython",
    "version": 3
   },
   "pygments_lexer": "ipython3",
   "nbconvert_exporter": "python",
   "file_extension": ".py"
  },
  "kernelspec": {
   "name": "python3",
   "display_name": "Python 3.8.5 64-bit ('earthy2': conda)"
  },
  "interpreter": {
   "hash": "8dc5f825c87b53bb6491963b0c73dc9c58a2742e175e5f3ae04c0e828bd9c204"
  }
 },
 "nbformat": 4,
 "nbformat_minor": 2
}