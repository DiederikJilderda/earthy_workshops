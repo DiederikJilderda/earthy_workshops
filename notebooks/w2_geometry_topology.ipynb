{
 "cells": [
  {
   "cell_type": "markdown",
   "source": [
    "# W2 - Geometry & Topoology\n",
    "\n",
    "In this workshop we will learn about mesh data structures, how to import, visualize and export them in python. We will also learn about basic mesh manipulations."
   ],
   "metadata": {}
  },
  {
   "cell_type": "markdown",
   "source": [
    "## 0. Initialization"
   ],
   "metadata": {}
  },
  {
   "cell_type": "markdown",
   "source": [
    "### 0.1. Importing libraries "
   ],
   "metadata": {}
  },
  {
   "cell_type": "code",
   "execution_count": 37,
   "source": [
    "# basic libraries\n",
    "import numpy as np\n",
    "\n",
    "# computational geometry libraries\n",
    "import pyvista as pv\n",
    "from compas.datastructures import Mesh as CompasMesh\n",
    "from compas_plotters.meshplotter import MeshPlotter\n",
    "\n",
    "# libraries for connection to grasshopper (speckle)\n",
    "from specklepy.api.client import SpeckleClient\n",
    "from specklepy.api.credentials import get_default_account\n",
    "from specklepy.transports.server import ServerTransport\n",
    "from specklepy.api import operations\n",
    "\n",
    "# Earthy Bridge\n",
    "import earthy_bridge as eb\n",
    "\n",
    "# extra IPython utilities\n",
    "from IPython.display import display"
   ],
   "outputs": [],
   "metadata": {}
  },
  {
   "cell_type": "markdown",
   "source": [
    "### 0.2. Establish connection to speckle"
   ],
   "metadata": {}
  },
  {
   "cell_type": "code",
   "execution_count": 38,
   "source": [
    "# initialise the client\n",
    "client = SpeckleClient(host=\"speckle.xyz\", use_ssl=True)\n",
    "\n",
    "# authenticate the client with a token\n",
    "account = get_default_account()\n",
    "client.authenticate(token=account.token)\n",
    "\n",
    "# use that stream id to get the stream from the server\n",
    "earthy_w2_stream = client.stream.get(id=\"5be382cdb7\")\n",
    "\n",
    "# creating a server transport \n",
    "transport = ServerTransport(client=client, stream_id=earthy_w2_stream.id)"
   ],
   "outputs": [],
   "metadata": {}
  },
  {
   "cell_type": "markdown",
   "source": [
    "## 1. Mesh In"
   ],
   "metadata": {}
  },
  {
   "cell_type": "markdown",
   "source": [
    "### 1.1. Importing OBJ files"
   ],
   "metadata": {}
  },
  {
   "cell_type": "code",
   "execution_count": 39,
   "source": [
    "# loading the mesh\n",
    "base_grid_filepath = \"../data/base_grid.obj\"\n",
    "base_grid_mesh = CompasMesh.from_obj(base_grid_filepath)\n",
    "# visualizing the mesh\n",
    "eb.compas_to_pyvista(base_grid_mesh).plot()"
   ],
   "outputs": [
    {
     "output_type": "display_data",
     "data": {
      "text/plain": [
       "ViewInteractiveWidget(height=768, layout=Layout(height='auto', width='100%'), width=1024)"
      ],
      "application/vnd.jupyter.widget-view+json": {
       "version_major": 2,
       "version_minor": 0,
       "model_id": "3f10c907822c4b219582c8675ba0b919"
      }
     },
     "metadata": {}
    }
   ],
   "metadata": {}
  },
  {
   "cell_type": "markdown",
   "source": [
    "### 1.2. Importing from Grasshopper (Speckle)"
   ],
   "metadata": {}
  },
  {
   "cell_type": "code",
   "execution_count": 40,
   "source": [
    "# find base box reference id\n",
    "last_geo_ref = client.commit.list(earthy_w2_stream.id)[0].referencedObject\n",
    "\n",
    "# this receives the object back from the transport.\n",
    "received_mesh = operations.receive(obj_id=last_geo_ref, remote_transport=transport)"
   ],
   "outputs": [],
   "metadata": {}
  },
  {
   "cell_type": "code",
   "execution_count": 41,
   "source": [
    "# visualize the mesh\n",
    "eb.speckle_to_pyvista(received_mesh).plot()"
   ],
   "outputs": [
    {
     "output_type": "display_data",
     "data": {
      "text/plain": [
       "ViewInteractiveWidget(height=768, layout=Layout(height='auto', width='100%'), width=1024)"
      ],
      "application/vnd.jupyter.widget-view+json": {
       "version_major": 2,
       "version_minor": 0,
       "model_id": "0b15fa04bc5b454b9eb95d7ccd2f5b8d"
      }
     },
     "metadata": {}
    }
   ],
   "metadata": {}
  },
  {
   "cell_type": "markdown",
   "source": [
    "## 2. Mesh Manipulation & Analysis"
   ],
   "metadata": {}
  },
  {
   "cell_type": "markdown",
   "source": [
    "### 2.1. Mesh Data Structure "
   ],
   "metadata": {}
  },
  {
   "cell_type": "code",
   "execution_count": 42,
   "source": [
    "# construct the compas mesh\n",
    "(V, F) = eb.speckle_to_vertices_and_faces(received_mesh)\n",
    "\n",
    "# display(\"Vertices: \", V)\n",
    "# display(\"Faces: \", F)"
   ],
   "outputs": [],
   "metadata": {}
  },
  {
   "cell_type": "markdown",
   "source": [
    "### 2.2. Basic Mesh Transformation"
   ],
   "metadata": {}
  },
  {
   "cell_type": "code",
   "execution_count": 43,
   "source": [
    "# scale in Y direction\n",
    "edited_V = np.array(V) * np.array([1,1.5,1])"
   ],
   "outputs": [],
   "metadata": {}
  },
  {
   "cell_type": "code",
   "execution_count": 44,
   "source": [
    "pv_edited_mesh = eb.vertices_and_faces_to_pyvista(edited_V, F)\n",
    "pv_edited_mesh.plot(color='#abd8ff', show_edges=True)"
   ],
   "outputs": [
    {
     "output_type": "display_data",
     "data": {
      "text/plain": [
       "ViewInteractiveWidget(height=768, layout=Layout(height='auto', width='100%'), width=1024)"
      ],
      "application/vnd.jupyter.widget-view+json": {
       "version_major": 2,
       "version_minor": 0,
       "model_id": "ed9f525e7b08465ca792c5cb125fecde"
      }
     },
     "metadata": {}
    }
   ],
   "metadata": {}
  },
  {
   "cell_type": "markdown",
   "source": [
    "### 2.3. Dual"
   ],
   "metadata": {}
  },
  {
   "cell_type": "code",
   "execution_count": 58,
   "source": [
    "# construct the compas mesh\n",
    "edited_mesh_compas = CompasMesh.from_vertices_and_faces(edited_V,F)\n",
    "received_mesh_compas = CompasMesh.from_vertices_and_faces(V,F)"
   ],
   "outputs": [],
   "metadata": {}
  },
  {
   "cell_type": "code",
   "execution_count": 46,
   "source": [
    "dual_mesh = received_mesh_compas.dual()\n",
    "dV, dF = dual_mesh.to_vertices_and_faces()"
   ],
   "outputs": [],
   "metadata": {}
  },
  {
   "cell_type": "code",
   "execution_count": 56,
   "source": [
    "p = pv.Plotter()\n",
    "p.add_mesh(eb.compas_to_pyvista(received_mesh_compas), opacity=0.5, show_edges=True)\n",
    "p.add_mesh(eb.compas_to_pyvista(dual_mesh), style=\"wireframe\")\n",
    "p.show()"
   ],
   "outputs": [
    {
     "output_type": "display_data",
     "data": {
      "text/plain": [
       "ViewInteractiveWidget(height=768, layout=Layout(height='auto', width='100%'), width=1024)"
      ],
      "application/vnd.jupyter.widget-view+json": {
       "version_major": 2,
       "version_minor": 0,
       "model_id": "bf17ad2f2cea47c3a0f269d61c9a1907"
      }
     },
     "metadata": {}
    }
   ],
   "metadata": {}
  },
  {
   "cell_type": "code",
   "execution_count": null,
   "source": [
    "# (Q+) can you propose an algorithm/procedure to generate the dual of a mesh?"
   ],
   "outputs": [],
   "metadata": {}
  },
  {
   "cell_type": "markdown",
   "source": [
    "## 3. Mesh Out"
   ],
   "metadata": {}
  },
  {
   "cell_type": "markdown",
   "source": [
    "### 3.1. Saving OBJ files"
   ],
   "metadata": {}
  },
  {
   "cell_type": "code",
   "execution_count": 59,
   "source": [
    "# save the mesh into an OBJ file\n",
    "edited_mesh_compas.to_obj(\"../data/edited_mesh.obj\")"
   ],
   "outputs": [],
   "metadata": {}
  },
  {
   "cell_type": "markdown",
   "source": [
    "### 3.2. Exporting to Grasshopper (Speckle)"
   ],
   "metadata": {}
  },
  {
   "cell_type": "code",
   "execution_count": 61,
   "source": [
    "# construct speckle mesh\n",
    "edited_mesh_speckle = eb.compas_to_speckle(edited_mesh_compas)"
   ],
   "outputs": [],
   "metadata": {}
  },
  {
   "cell_type": "code",
   "execution_count": 62,
   "source": [
    "# Serialises the block and sends it to the transport\n",
    "edited_mesh_hash = operations.send(base=edited_mesh_speckle, transports=[transport])\n",
    "\n",
    "# creating a commit on your stream with this object\n",
    "commid_id = client.commit.create(\n",
    "    stream_id=earthy_w2_stream.id, \n",
    "    object_id=edited_mesh_hash, \n",
    "    message=\"edited_mesh\")"
   ],
   "outputs": [],
   "metadata": {}
  },
  {
   "cell_type": "markdown",
   "source": [
    "## Credits"
   ],
   "metadata": {}
  },
  {
   "cell_type": "code",
   "execution_count": null,
   "source": [
    "__author__ = \"Shervin Azadi\"\n",
    "__license__ = \"MIT\"\n",
    "__version__ = \"1.0\"\n",
    "__url__ = \"https://github.com/shervinazadi/earthy_workshops\"\n",
    "__summary__ = \"Earthy Design Studio Workshop on Geometry and Topology\""
   ],
   "outputs": [],
   "metadata": {}
  }
 ],
 "metadata": {
  "orig_nbformat": 4,
  "language_info": {
   "name": "python",
   "version": "3.8.5",
   "mimetype": "text/x-python",
   "codemirror_mode": {
    "name": "ipython",
    "version": 3
   },
   "pygments_lexer": "ipython3",
   "nbconvert_exporter": "python",
   "file_extension": ".py"
  },
  "kernelspec": {
   "name": "python3",
   "display_name": "Python 3.8.5 64-bit ('earthy': conda)"
  },
  "interpreter": {
   "hash": "6a9983edd6343d9d7472c527d6fcc61324940c388a3481e05c81688fc90d2d61"
  }
 },
 "nbformat": 4,
 "nbformat_minor": 2
}