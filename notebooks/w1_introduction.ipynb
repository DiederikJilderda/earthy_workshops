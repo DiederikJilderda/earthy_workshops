{
 "cells": [
  {
   "cell_type": "markdown",
   "source": [
    "# W1 - Introduction\n",
    "\n",
    "In this workshop we will learn about the basics of developing computational procedures in a python notebook. We will also go through an overview of the computational tools that we will use in this course."
   ],
   "metadata": {}
  },
  {
   "cell_type": "markdown",
   "source": [
    "## 1. Python Notebooks\n",
    "\n",
    "Python Notebooks or Jupyter Notebooks are interactive environments for python scripting. In this course, the majority of programming workshops are based on python notebooks as they provide an easy "
   ],
   "metadata": {}
  },
  {
   "cell_type": "markdown",
   "source": [
    "## 2. Conda (Anaconda)"
   ],
   "metadata": {}
  },
  {
   "cell_type": "markdown",
   "source": [
    "## 1. Git"
   ],
   "metadata": {}
  },
  {
   "cell_type": "markdown",
   "source": [
    "### 1.1. Git Definitions\n",
    "\n",
    "<img src=https://www.git-tower.com/learn/git/ebook/en/command-line/remote-repositories/introduction/basic-remote-workflow.png> </img>\n",
    "<a href=https://www.git-tower.com/learn/git/ebook/en/command-line/remote-repositories/introduction> Image Source </a> \n",
    "\n",
    "**Repository (“Repo”)**: In many ways, you can think of a Git repository as a directory that stores all the files, folders, and content needed for your project. What it actually is, is the object database of the project, storing everything from the files themselves, to the versions of those files, commits, deletions, et cetera. \n",
    "\n",
    "**Remote** is a copy of the original repository. Remote mainly refers to copies of the respository stored on the cloud hosted by websites such as GitHub, GitLab, etc.\n",
    "\n",
    "**Branch** is a version of the repository that diverges from the main working project (Master Branch). Branches can be a new version of a repository, experimental changes, or personal forks of a repository for users to alter and test changes.\n",
    "\n",
    "**Master** is the primary branch of all repositories. All committed and accepted changes should be on the master branch. You can work directly from the master branch, or create other branches.\n",
    "\n",
    "**Clone** is a copy of a repository or the action of copying a repository.\n",
    "\n",
    "**Commit** is a package of changes that is recorded in the reposiroty database.\n",
    "\n",
    "**Push**, updates a remote branch with the commits made to the current branch. You are literally “pushing” your changes onto the remote.\n",
    "\n",
    "**Pull**, retreives the latest updates from a remote branch.\n",
    "\n",
    "**HEAD** is a reference used to denote the most current commit of the repository in which you are working. When you add a new commit, HEAD will then become that new commit."
   ],
   "metadata": {}
  },
  {
   "cell_type": "markdown",
   "source": [
    "### 1.2. Git In VS Code\n",
    "\n",
    "Git is a version control system on its own that offers to GUI for users. You can use [git-bash](https://git-scm.com/docs) to utilize git through your terminal/command-line. However, we suggest you to use [git integration in VS Code](https://code.visualstudio.com/docs/editor/versioncontrol) to avoid extra complications [1]. We also recommend the following vs code extension for more advanced functionalities:\n",
    "    1. [GitLens](https://marketplace.visualstudio.com/items?itemName=eamodio.gitlens)\n",
    "    2. [GitGraph](https://marketplace.visualstudio.com/items?itemName=mhutchie.git-graph)\n",
    "    3. [GitHistory](https://marketplace.visualstudio.com/items?itemName=donjayamanne.githistory)\n",
    "\n",
    "There are also other third party GUIs that you can use such as [GitHub Desktop](https://desktop.github.com) or [GitKraken](https://www.gitkraken.com).\n",
    "\n",
    "---\n",
    "[1] you can always pull up a terminal in vs code and access git-bash for more complex functionality"
   ],
   "metadata": {}
  },
  {
   "cell_type": "markdown",
   "source": [
    "## 1. Python"
   ],
   "metadata": {}
  },
  {
   "cell_type": "markdown",
   "source": [
    "## 2. NumPy"
   ],
   "metadata": {}
  },
  {
   "cell_type": "markdown",
   "source": [
    "## Credits"
   ],
   "metadata": {}
  },
  {
   "cell_type": "code",
   "execution_count": null,
   "source": [
    "__author__ = \"Shervin Azadi\"\n",
    "__license__ = \"MIT\"\n",
    "__version__ = \"1.0\"\n",
    "__url__ = \"https://github.com/shervinazadi/earthy_workshops\"\n",
    "__summary__ = \"Earthy Design Studio, an Introduction Workshop\""
   ],
   "outputs": [],
   "metadata": {}
  }
 ],
 "metadata": {
  "orig_nbformat": 4,
  "language_info": {
   "name": "python",
   "version": "3.8.5"
  },
  "kernelspec": {
   "name": "python3",
   "display_name": "Python 3.8.5 64-bit ('earthy': conda)"
  },
  "interpreter": {
   "hash": "6a9983edd6343d9d7472c527d6fcc61324940c388a3481e05c81688fc90d2d61"
  }
 },
 "nbformat": 4,
 "nbformat_minor": 2
}