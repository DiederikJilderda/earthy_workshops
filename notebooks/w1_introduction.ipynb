{
 "cells": [
  {
   "cell_type": "markdown",
   "source": [
    "# W1 - Introduction\n",
    "\n",
    "In this workshop, we will learn about the basics of developing computational procedures in a python notebook. We will also go through an overview of the computational tools that we will use in this course. Note that links are provided as references; studying is not required unless explicitly specified."
   ],
   "metadata": {}
  },
  {
   "cell_type": "markdown",
   "source": [
    "## 1. Conda (Anaconda)\n",
    "\n",
    "[Anaconda](https://anaconda.org) is an extensive workbench for managing Python packages, python environments, etc. Anaconda includes a command-line tool called **Conda** that we use Anaconda to manage our python environments and the python libraries that we use. [Conda Reference](https://conda.io/projects/conda/en/latest/user-guide/tasks/manage-environments.html)."
   ],
   "metadata": {}
  },
  {
   "cell_type": "markdown",
   "source": [
    "### 1.1. Anaconda Installation\n",
    "\n",
    "As part of the **Assignment_0**, you should have already installed Anaconda on your system. If not, you can download and install Anaconda from [this link](https://www.anaconda.com/products/individual)."
   ],
   "metadata": {}
  },
  {
   "cell_type": "markdown",
   "source": [
    "### 1.2. Earthy Environment Installation\n",
    "\n",
    "To kickstart our programming workshops, we have prepared a recipe to create the proper working environment and install all the tools and libraries you will need in this course. To do so, you need to open a terminal from the terminal menu in vs-code and run the following command in it.\n",
    "\n",
    "``` bash\n",
    "conda env create -f environment.yml\n",
    "```\n",
    "\n",
    "Running this command may take some time as it needs to download and install multiple tools. Make sure that your firewall allows the command line to access the conda servers. Also, note that the command line may ask for various confirmations during download and installation; in those cases, follow the provided instructions."
   ],
   "metadata": {}
  },
  {
   "cell_type": "markdown",
   "source": [
    "### 1.3. Using earthy environment in the terminal\n",
    "\n",
    "After installation, you can activate the earthy environment by running the following command:\n",
    "\n",
    "``` bash\n",
    "conda activate earthy\n",
    "```\n",
    "\n",
    "Currently, conda has followed our prescribed recipe and installed all the essential tools we will use in our workshops, so you do not need to install anything extra. However, in case you want to use more advanced and specialized libraries, you can install them use the following command:\n",
    "\n",
    "``` bash\n",
    "conda install <name-of-library>\n",
    "```\n",
    "\n",
    "Take note that conda will install the requested library in the activated environment. You can check the currently activated environment by reading the beginning of the command prompt (the environment name is normally written between parentheses):\n",
    "\n",
    "```\n",
    "(earthy) shervinazadi@Shervins-MacBook-Pro-15 earthy_workshops % \n",
    "```\n",
    "\n",
    "or running the following command:\n",
    "\n",
    "``` bash \n",
    "echo $CONDA_DEFAULT_ENV\n",
    "```\n",
    "\n",
    "For more functionalities of conda you check [conda environment management reference](https://conda.io/projects/conda/en/latest/user-guide/tasks/manage-environments.html#)"
   ],
   "metadata": {}
  },
  {
   "cell_type": "markdown",
   "source": [
    "## 2. Python Notebooks\n",
    "\n",
    "Python Notebooks or Jupyter Notebooks are interactive environments for python scripting. In this course, most programming workshops are based on python notebooks as they provide a low threshold environment for starters. You can open Python notebooks with many interfaces such as [Jupyter Clients](https://docs.anaconda.com/ae-notebooks/4.3.1/user-guide/basic-tasks/apps/jupyter/)or [VS-Code Integrated Notebooks](https://code.visualstudio.com/docs/datascience/jupyter-notebooks). There is no fundamental difference in the execution of the code between these interfaces; the only difference is the user experience. Thus, feel free to choose the one that suits your taste. We suggest using the vs-code interface as it will make it easier to navigate the files and interact with the version control system.\n",
    "\n",
    "Note that the Jupyter is already included in the basic anaconda package and description of the earthy environment, so you do not need to install anything extra."
   ],
   "metadata": {}
  },
  {
   "cell_type": "markdown",
   "source": [
    "## 2.1. Notebook's Kernel \n",
    "\n",
    "Notebooks are separate files, and each one is stored in a `.ipynb` file. In vs-code, by opening a `.ipynb` file, you open the notebook [1]. After opening the notebook in the vs-code, you may need to `select kernel` on the top right corner to specify which python environment needs to be used for running this notebook. After clicking on `select kernel` choose `('earthy': conda)` to use the prescribed environment of the course [2]. \n",
    "\n",
    "---\n",
    "[1] For using the default Jupyter interface in the browser, you can check [here](https://jupyter.readthedocs.io/en/latest/running.html).\n",
    "\n",
    "[2] If you can not find `('earthy': conda)` in the list of available kernels, you may need to restart vs-code."
   ],
   "metadata": {}
  },
  {
   "cell_type": "markdown",
   "source": [
    "### 2.2. Execution\n",
    "\n",
    "Now that the notebook is open and the appropriate kernel is selected, you can execute code in a notebook. Notebooks are structured as an ordered set of cells. There are two types of cells, Markdown Cells, and Python Cells. \n",
    "\n",
    "1. Markdown Cells are mainly used for the description and documentation of the code. For example, within this notebook, all the cells up until now have been Markdown cells. Take note that Markdown is a straightforward notation system for textual content ([Markdown Cheatsheet](https://github.com/adam-p/markdown-here/wiki/Markdown-Cheatsheet)). \n",
    "\n",
    "2. Python Cells are the cells that contain code. For example, the following cell is a python cell that computes a very simple calculation and displays the result. You can execute it by selecting the cell and hitting (ctrl + enter). Alternatively, you can execute and move to the next cell by hitting (shift + enter). for more functionalities of python notebook, you can check [VS Code Integrated Notebooks](https://code.visualstudio.com/docs/datascience/jupyter-notebooks))"
   ],
   "metadata": {}
  },
  {
   "cell_type": "code",
   "execution_count": 1,
   "source": [
    "5 * 4 * 3 * 2 * 1"
   ],
   "outputs": [
    {
     "output_type": "execute_result",
     "data": {
      "text/plain": [
       "120"
      ]
     },
     "metadata": {},
     "execution_count": 1
    }
   ],
   "metadata": {}
  },
  {
   "cell_type": "markdown",
   "source": [
    "By double-clicking each cell, you can jump into edit mode and start editing the cell. Note that you may need to execute the cell again to render the Markdown cells or re-evaluate the Python cells."
   ],
   "metadata": {}
  },
  {
   "cell_type": "markdown",
   "source": [
    "## 2.3 Python Programming\n",
    "\n",
    "Now that you know about the python notebooks, you can start playing around with python programming. In the same directory, we have provided three python notebooks that cover the basics of python:\n",
    "\n",
    "1. BK3OV3_part1.ipynb\n",
    "2. BK3OV3_part2.ipynb\n",
    "3. BK3OV3_part3.ipynb\n",
    "\n",
    "Follow them in order and play around with the codes to understand the python syntax and python environment, as the following programming workshops will be mainly in python."
   ],
   "metadata": {}
  },
  {
   "cell_type": "markdown",
   "source": [
    "## 3. Git\n",
    "\n",
    "Git is an open-source and free version control system. Its primary function is to track changes in any set of files, usually used for coordinating work among programmers collaboratively developing source code. In earthy, students will use git to develop their projects collaboratively, and at the end of the course, we will merge the projects (repositories) of students into one repository. You can find the project of earthy students from previous years in these repositories:\n",
    "\n",
    "* [Earthy 3.0: 2020](https://github.com/Pirouz-Nourian/earthy_20)\n",
    "* [Earthy 2.0: 2019](https://github.com/Pirouz-Nourian/earthy_19)\n",
    "* [Earthy 1.0: 2018](https://github.com/Pirouz-Nourian/earthy_18)\n",
    "\n",
    "We will also use git to develop the programming workshops for students. You can find the source file of all workshops as they are being developed in [Earthy Workshops](https://github.com/shervinazadi/earthy_workshops)"
   ],
   "metadata": {}
  },
  {
   "cell_type": "markdown",
   "source": [
    "### 3.1. Basic Concepts\n",
    "\n",
    "<img src=https://www.git-tower.com/learn/git/ebook/en/command-line/remote-repositories/introduction/basic-remote-workflow.png> </img>\n",
    "<a href=https://www.git-tower.com/learn/git/ebook/en/command-line/remote-repositories/introduction> Image Source </a> \n",
    "\n",
    "**Repository (“Repo”)**: In many ways, you can think of a Git repository as a directory that stores all the files, folders, and content needed for your project. In other words, a Git Repo is a comprehensive database of the project that stores all the addition, removal, and edition to all project files.\n",
    "\n",
    "**Remote** is a copy of the original repository. Remote mainly refers to copies of the repository stored on the cloud-hosted by websites such as GitHub, GitLab, etc.\n",
    "\n",
    "**Branch** is a parallel version of the repository that diverges from the main working project (Master Branch). Branches can be an alternative version of a repository that needs to be separated for various reasons such as specialization, customization, experimental changes, etc. . You can fork new branches from existing ones and merge them later if needed.\n",
    "\n",
    "**Master** is the primary branch of all repositories.\n",
    "\n",
    "**Clone** is a copy of a repository or the action of copying a repository.\n",
    "\n",
    "**Commit** is a package of changes that is recorded in the repository database.\n",
    "\n",
    "**Push** updates a remote branch with the commits made to the current branch. \n",
    "\n",
    "**Pull** retrieves the latest updates from a remote branch. Pull is the exact opposite of Push.\n",
    "\n",
    "**HEAD** is a reference used to denote the most current commit of the repository in which you are working. When you add a new commit, HEAD will then become that new commit.\n",
    "\n",
    "**Conflict** will arise when two versions are about to merge, but they contain separate changes to a single line in at least one of the files. In those situations, git will prompt a merge conflict and ask the user intervention to choose from the options or propose a custom merger. "
   ],
   "metadata": {}
  },
  {
   "cell_type": "markdown",
   "source": [
    "### 3.2. Git In VS Code\n",
    "\n",
    "Git is a version control system on its own that offers no GUI for users. You can use [git-bash](https://git-scm.com/docs) to utilize git through your terminal/command-line. However, we suggest you to use [git integration in VS-Code](https://code.visualstudio.com/docs/editor/versioncontrol) to avoid extra complications [1]. We also recommend the following vs-code extension for more advanced functionalities:\n",
    "\n",
    "1. [GitLens](https://marketplace.visualstudio.com/items?itemName=eamodio.gitlens)\n",
    "2. [GitGraph](https://marketplace.visualstudio.com/items?itemName=mhutchie.git-graph)\n",
    "3. [GitHistory](https://marketplace.visualstudio.com/items?itemName=donjayamanne.githistory)\n",
    "\n",
    "You can find a short introduction to using Git in VS Code [here](https://www.youtube.com/watch?v=F2DBSH2VoHQ). There are also other third-party GUIs that you can use, such as [GitHub Desktop](https://desktop.github.com) or [GitKraken](https://www.gitkraken.com).\n",
    "\n",
    "---\n",
    "[1] you can always pull up a terminal in vs-code and access git-bash for more complex functionality"
   ],
   "metadata": {}
  },
  {
   "cell_type": "markdown",
   "source": [
    "## 4. NumPy\n",
    "\n",
    "Last but not least, NumPy is a comprehensive and reliable package of mathematical toolsets. NumPy is an open-source tool that has become the defacto standard of many fields such as computational sciences, data science, machine learning, etc. In Earthy, we rely on NumPy for basic numerical computation and defining more advanced computational objects such as meshes, graphs, fields, etc. We recommend you to follow [The Introduction to Numerical Computing for NumPy](https://www.youtube.com/watch?v=ZB7BZMhfPgk) to establish a solid foundation for numerical computations that we will perform in Earthy. You can also consult the [NumPy Official Documentation](https://numpy.org/doc/stable/reference/) for more in detail information. "
   ],
   "metadata": {}
  },
  {
   "cell_type": "markdown",
   "source": [
    "## Credits"
   ],
   "metadata": {}
  },
  {
   "cell_type": "code",
   "execution_count": 2,
   "source": [
    "__author__ = \"Shervin Azadi\"\n",
    "__license__ = \"MIT\"\n",
    "__version__ = \"1.0\"\n",
    "__url__ = \"https://github.com/shervinazadi/earthy_workshops\"\n",
    "__summary__ = \"Earthy Design Studio, an Introduction Workshop\""
   ],
   "outputs": [],
   "metadata": {}
  }
 ],
 "metadata": {
  "orig_nbformat": 4,
  "language_info": {
   "name": "python",
   "version": "3.8.5",
   "mimetype": "text/x-python",
   "codemirror_mode": {
    "name": "ipython",
    "version": 3
   },
   "pygments_lexer": "ipython3",
   "nbconvert_exporter": "python",
   "file_extension": ".py"
  },
  "kernelspec": {
   "name": "python3",
   "display_name": "Python 3.8.5 64-bit ('earthy': conda)"
  },
  "interpreter": {
   "hash": "6a9983edd6343d9d7472c527d6fcc61324940c388a3481e05c81688fc90d2d61"
  }
 },
 "nbformat": 4,
 "nbformat_minor": 2
}