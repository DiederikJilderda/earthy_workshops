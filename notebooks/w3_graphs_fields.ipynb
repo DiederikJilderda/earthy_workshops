{
 "cells": [
  {
   "cell_type": "markdown",
   "source": [
    "# W3 - Graphs & Fields\n",
    "\n",
    "In this workshop we will learn about graphs & fields, and explore their application in configuration design."
   ],
   "metadata": {}
  },
  {
   "cell_type": "markdown",
   "source": [
    "## 0. Initialization"
   ],
   "metadata": {}
  },
  {
   "cell_type": "code",
   "execution_count": null,
   "source": [
    "# importing NumPy and NetworkX for working with graphs\n",
    "import numpy as np\n",
    "import networkx as nx \n",
    "\n",
    "# importing topogenesis for working wiith lattices / regular-grids\n",
    "import topogenesis as tg\n",
    "\n",
    "# importing pyvista for visualizations\n",
    "import pyvista as pv\n",
    "\n",
    "# importing Pandas and display for clearer representation of table data and matrices\n",
    "import pandas as pd\n",
    "from IPython.display import display"
   ],
   "outputs": [],
   "metadata": {}
  },
  {
   "cell_type": "markdown",
   "source": [
    "## 1. Graphs"
   ],
   "metadata": {}
  },
  {
   "cell_type": "markdown",
   "source": [
    "### 1.1. Basic Graph"
   ],
   "metadata": {}
  },
  {
   "cell_type": "code",
   "execution_count": null,
   "source": [
    "G_nodes = [0, 1, 2, 3, 4]\n",
    "G_edges = [ (0, 1),\n",
    "            (0, 3),\n",
    "            (1, 2),\n",
    "            (1, 3),\n",
    "            (2, 3),\n",
    "            (2, 4),\n",
    "            (0, 4)]\n",
    "\n",
    "G = nx.Graph()\n",
    "G.add_nodes_from(G_nodes)\n",
    "G.add_edges_from(G_edges)"
   ],
   "outputs": [],
   "metadata": {}
  },
  {
   "cell_type": "markdown",
   "source": [
    "### 1.2. Graph drawing"
   ],
   "metadata": {}
  },
  {
   "cell_type": "code",
   "execution_count": null,
   "source": [
    "# explicitly set positions\n",
    "pos = { \n",
    "    0: (5, 0.03),\n",
    "    1: (0, 0), \n",
    "    2: (-1, 0.3), \n",
    "    3: (2, 0.17), \n",
    "    4: (4, 0.255)}\n",
    "\n",
    "options = {\n",
    "    \"font_size\": 30,\n",
    "    \"node_size\": 1500,\n",
    "    \"node_color\": \"white\",\n",
    "    \"edgecolors\": \"grey\",\n",
    "    \"edge_color\": \"white\",\n",
    "    \"linewidths\": 3,\n",
    "    \"width\": 3,\n",
    "}\n",
    "nx.draw_networkx(G, pos, **options)"
   ],
   "outputs": [],
   "metadata": {}
  },
  {
   "cell_type": "markdown",
   "source": [
    "### 1.3. Vertex - Vertex Matrix"
   ],
   "metadata": {}
  },
  {
   "cell_type": "code",
   "execution_count": null,
   "source": [
    "# VV is a matrix with this shape: number of nodes by number of nodes\n",
    "VV_shape = (len(G_nodes), len(G_nodes))\n",
    "# Initialize the empty VV\n",
    "VV = np.zeros(VV_shape, dtype=int)\n",
    "# iterate over the egdes\n",
    "for n1, n2 in G_edges:\n",
    "    # since the graph is undrirected we fill the matrix \n",
    "    # on both side of the diagonal line\n",
    "    VV[n1, n2] = 1 \n",
    "    VV[n2, n1] = 1\n",
    "\n",
    "# display as pandas dataframe\n",
    "display(pd.DataFrame(VV))"
   ],
   "outputs": [],
   "metadata": {}
  },
  {
   "cell_type": "markdown",
   "source": [
    "### 1.4. Edge - Vertex Matrix"
   ],
   "metadata": {}
  },
  {
   "cell_type": "code",
   "execution_count": null,
   "source": [
    "# EV is a matrix with this shape: number of edges by number of nodes\n",
    "EV_shape = (len(G_edges), len(G_nodes))\n",
    "# Initialize the empty EV\n",
    "EV = np.zeros(EV_shape, dtype=int)\n",
    "# iterate over the edges\n",
    "for e, (n1, n2) in enumerate(G_edges):\n",
    "    # set each element at row e and column n1, n2 to 1\n",
    "    EV[e, n1] = 1 \n",
    "    EV[e, n2] = 1 \n",
    "\n",
    "# display as pandas dataframe (tag edges in index for readability)\n",
    "pd.DataFrame(EV, index=G_edges)"
   ],
   "outputs": [],
   "metadata": {}
  },
  {
   "cell_type": "markdown",
   "source": [
    "### 1.5. Edge - Edge Matrix "
   ],
   "metadata": {}
  },
  {
   "cell_type": "code",
   "execution_count": null,
   "source": [
    "# EE is a matrix with this shape: number of edges by number of edges\n",
    "EE_shape = (len(G_edges), len(G_edges))\n",
    "# Initialize the empty EE\n",
    "EE = np.zeros(EE_shape, dtype=int)\n",
    "# iterate over the edges\n",
    "for e1 ,(n11, n12) in enumerate(G_edges):\n",
    "    # for each edge, iterate over the edges\n",
    "    for e2 ,(n21, n22) in enumerate(G_edges):\n",
    "        # if they shared any node... (Q+): how are we checking that? in what situation this method will not work properly?\n",
    "        if (n11-n21) * (n11-n22) * (n12-n21) * (n12-n22) == 0:\n",
    "            # set those edges as adjacent\n",
    "            EE[e1, e2] = 1\n",
    "\n",
    "# subtract the identity matrix since each edge does have nodes in common \n",
    "# with itself, but is not considered adjacent to itself\n",
    "EE -= np.identity(len(G_edges), dtype=int)\n",
    "# display as pandas dataframe (tag edges in index and columns for readability)\n",
    "pd.DataFrame(EE, index=G_edges, columns=G_edges)"
   ],
   "outputs": [],
   "metadata": {}
  },
  {
   "cell_type": "markdown",
   "source": [
    "### 1.6. Vertex-Vertex Matrixc in networkx"
   ],
   "metadata": {}
  },
  {
   "cell_type": "code",
   "execution_count": null,
   "source": [
    "# you can also extract the VV matrix from networkx.\n",
    "# notice the nodelist property, it specifies the order \n",
    "# of nodes in the rows and columns of the matrix\n",
    "VV_ = nx.linalg.graphmatrix.adjacency_matrix(G, nodelist=G_nodes)\n",
    "# convert sparse matrix to dense matrix and display it with pandas\n",
    "pd.DataFrame(VV_.todense())"
   ],
   "outputs": [],
   "metadata": {}
  },
  {
   "cell_type": "markdown",
   "source": [
    "### 1.7. Activity Relationship Chart (ARC)"
   ],
   "metadata": {}
  },
  {
   "cell_type": "code",
   "execution_count": null,
   "source": [
    "# TODO explain Activity Relationship Chart (REL Chart) \n",
    "# https://en.wikipedia.org/wiki/Activity_relationship_chart"
   ],
   "outputs": [],
   "metadata": {}
  },
  {
   "cell_type": "markdown",
   "source": [
    "## 2. Fields"
   ],
   "metadata": {}
  },
  {
   "cell_type": "markdown",
   "source": [
    "### 2.1. Construct a lattice"
   ],
   "metadata": {}
  },
  {
   "cell_type": "code",
   "execution_count": null,
   "source": [
    "# import the streetnetwork as a point cloud\n",
    "street_network_pc = tg.cloud_from_csv(\"../data/streetnetwork_pointcloud.csv\")\n",
    "\n",
    "# construct the lattice from voxelating the point cloud \n",
    "street_network_lattice = street_network_pc.voxelate([3,3,3], closed=True)"
   ],
   "outputs": [],
   "metadata": {}
  },
  {
   "cell_type": "code",
   "execution_count": null,
   "source": [
    "street_network_lattice.shape"
   ],
   "outputs": [],
   "metadata": {}
  },
  {
   "cell_type": "markdown",
   "source": [
    "### 2.2. Visualize the lattice"
   ],
   "metadata": {}
  },
  {
   "cell_type": "code",
   "execution_count": null,
   "source": [
    "# initiating the plotter\n",
    "p = pv.PlotterITK() # ITK plotter for interactivity within the python notebook (itkwidgets library is required)\n",
    "\n",
    "# fast visualization of the point cloud\n",
    "street_network_pc.fast_notebook_vis(p)\n",
    "\n",
    "# fast visualization of the lattice\n",
    "street_network_lattice.fast_notebook_vis(p, show_outline=True, show_centroids=True)\n",
    "\n",
    "# Set a camera position\n",
    "p.camera_position = [(0.25, 0.18, 0.5), (0, .1, 0), (0, 1, 0)]\n",
    "\n",
    "# plotting\n",
    "p.show()"
   ],
   "outputs": [],
   "metadata": {}
  },
  {
   "cell_type": "markdown",
   "source": [
    "### 2.3. Construct distance field"
   ],
   "metadata": {}
  },
  {
   "cell_type": "code",
   "execution_count": 18,
   "source": [
    "# creating neighborhood definition\n",
    "stencil = tg.create_stencil(\"von_neumann\", 1, 1)\n",
    "# setting the center to zero\n",
    "stencil.set_index([0,0,0], 0)\n",
    "print(stencil)"
   ],
   "outputs": [
    {
     "output_type": "stream",
     "name": "stdout",
     "text": [
      "[[[0 0 0]\n",
      "  [0 1 0]\n",
      "  [0 0 0]]\n",
      "\n",
      " [[0 1 0]\n",
      "  [1 0 1]\n",
      "  [0 1 0]]\n",
      "\n",
      " [[0 0 0]\n",
      "  [0 1 0]\n",
      "  [0 0 0]]]\n"
     ]
    }
   ],
   "metadata": {}
  },
  {
   "cell_type": "code",
   "execution_count": 19,
   "source": [
    "neighs = street_network_lattice.find_neighbours(stencil)\n",
    "\n",
    "sn_dist_lattice = 1 - street_network_lattice\n",
    "sn_dist_lattice[sn_dist_lattice==1] = np.sum(street_network_lattice.shape)"
   ],
   "outputs": [],
   "metadata": {}
  },
  {
   "cell_type": "code",
   "execution_count": 31,
   "source": [
    "sn_dist_lattice_flat = sn_dist_lattice.flatten()\n",
    "max_dist = 30\n",
    "for i in range(1, max_dist):\n",
    "    next_step = neighs[sn_dist_lattice_flat == i - 1]\n",
    "    sn_nex_dist_lattice_flat = np.copy(sn_dist_lattice_flat)\n",
    "    sn_nex_dist_lattice_flat[next_step.flatten()] = i\n",
    "    sn_dist_lattice_flat = np.minimum(sn_dist_lattice_flat, sn_nex_dist_lattice_flat)\n",
    "\n",
    "sn_dist_lattice = sn_dist_lattice_flat.reshape(sn_dist_lattice.shape)"
   ],
   "outputs": [],
   "metadata": {}
  },
  {
   "cell_type": "code",
   "execution_count": 34,
   "source": [
    "vis_lattice = sn_dist_lattice\n",
    "\n",
    "# initiating the plotter\n",
    "p = pv.Plotter(notebook=True)\n",
    "\n",
    "# Create the spatial reference\n",
    "grid = pv.UniformGrid()\n",
    "\n",
    "# Set the grid dimensions: shape because we want to inject our values\n",
    "grid.dimensions = vis_lattice.shape\n",
    "# The bottom left corner of the data set\n",
    "grid.origin = vis_lattice.minbound\n",
    "# These are the cell sizes along each axis\n",
    "grid.spacing = vis_lattice.unit\n",
    "\n",
    "# Add the data values to the cell data\n",
    "grid.point_arrays[\"Street Access\"] = vis_lattice.flatten(order=\"F\")  # Flatten the Lattice\n",
    "    \n",
    "# adding the volume\n",
    "opacity = np.array([0.0,0.6,0.6,0.6,0.6,0.6,0.6]) * 0.6\n",
    "p.add_volume(grid, cmap=\"coolwarm\", clim=[0.0, max_dist] ,opacity=opacity)\n",
    "\n",
    "# plotting\n",
    "p.show()"
   ],
   "outputs": [
    {
     "output_type": "display_data",
     "data": {
      "application/vnd.jupyter.widget-view+json": {
       "version_major": 2,
       "version_minor": 0,
       "model_id": "a4a780bd9dc94104ac13905d0aff1822"
      },
      "text/plain": [
       "ViewInteractiveWidget(height=768, layout=Layout(height='auto', width='100%'), width=1024)"
      ]
     },
     "metadata": {}
    }
   ],
   "metadata": {}
  },
  {
   "cell_type": "code",
   "execution_count": null,
   "source": [
    "\n",
    "# the commented code here is the equivalent of the same process but without the assumption that we are working on a regular grid. Producing the distance lattice through this algorithm will take several hours. (Q+) Can you show why these two approaches are equivalent? Can you explain why the second algorithm takes more time? \n",
    "\"\"\"\n",
    "# find the number of all voxels\n",
    "vox_count = street_network_lattice.size \n",
    "\n",
    "# initialize the adjacency matrix\n",
    "adj_mtrx = np.zeros((vox_count,vox_count))\n",
    "\n",
    "# Finding the index of the available voxels in avail_lattice\n",
    "avail_index = np.array(np.where(street_network_lattice == 1)).T\n",
    "\n",
    "# fill the adjacency matrix using the list of all neighbours\n",
    "for vox_loc in avail_index:\n",
    "    # find the 1D id\n",
    "    vox_id = np.ravel_multi_index(vox_loc, street_network_lattice.shape)\n",
    "    # retrieve the list of neighbours of the voxel based on the stencil\n",
    "    vox_neighs = street_network_lattice.find_neighbours_masked(stencil, loc = vox_loc)\n",
    "    # iterating over the neighbours\n",
    "    for neigh in vox_neighs:\n",
    "        # setting the entry to one\n",
    "        adj_mtrx[vox_id, neigh] = 1.0\n",
    "\n",
    "# construct the graph \n",
    "g = nx.from_numpy_array(adj_mtrx)\n",
    "\n",
    "# compute the distance of all voxels to all voxels using floyd warshal algorithm\n",
    "dist_mtrx = nx.floyd_warshall_numpy(g)\n",
    "\"\"\""
   ],
   "outputs": [],
   "metadata": {}
  },
  {
   "cell_type": "markdown",
   "source": [
    "## 3. Spatial Networks"
   ],
   "metadata": {}
  },
  {
   "cell_type": "markdown",
   "source": [
    "## Credits"
   ],
   "metadata": {}
  },
  {
   "cell_type": "code",
   "execution_count": null,
   "source": [
    "__author__ = \"Shervin Azadi\"\n",
    "__license__ = \"MIT\"\n",
    "__version__ = \"1.0\"\n",
    "__url__ = \"https://github.com/shervinazadi/earthy_workshops\"\n",
    "__summary__ = \"Earthy Design Studio\""
   ],
   "outputs": [],
   "metadata": {}
  }
 ],
 "metadata": {
  "orig_nbformat": 4,
  "language_info": {
   "name": "python",
   "version": "3.8.5",
   "mimetype": "text/x-python",
   "codemirror_mode": {
    "name": "ipython",
    "version": 3
   },
   "pygments_lexer": "ipython3",
   "nbconvert_exporter": "python",
   "file_extension": ".py"
  },
  "kernelspec": {
   "name": "python3",
   "display_name": "Python 3.8.5 64-bit ('earthy': conda)"
  },
  "interpreter": {
   "hash": "6a9983edd6343d9d7472c527d6fcc61324940c388a3481e05c81688fc90d2d61"
  }
 },
 "nbformat": 4,
 "nbformat_minor": 2
}