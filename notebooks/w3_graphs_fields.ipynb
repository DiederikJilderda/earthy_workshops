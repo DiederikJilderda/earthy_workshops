{
 "cells": [
  {
   "cell_type": "markdown",
   "source": [
    "# W3 - Graphs & Fields\n",
    "\n",
    "In this workshop we will learn about graphs & fields, and explore their application in configuration design."
   ],
   "metadata": {}
  },
  {
   "cell_type": "markdown",
   "source": [
    "## 0. Initialization"
   ],
   "metadata": {}
  },
  {
   "cell_type": "code",
   "execution_count": 1,
   "source": [
    "import networkx as nx \n",
    "import numpy as np\n",
    "import topogenesis as tg\n",
    "import pandas as pd\n",
    "from IPython.display import display\n",
    "import pyvista as pv"
   ],
   "outputs": [],
   "metadata": {}
  },
  {
   "cell_type": "markdown",
   "source": [
    "## 1. Graphs"
   ],
   "metadata": {}
  },
  {
   "cell_type": "markdown",
   "source": [
    "### 1.1. Basic Graph"
   ],
   "metadata": {}
  },
  {
   "cell_type": "code",
   "execution_count": 2,
   "source": [
    "G_nodes = [0, 1, 2, 3, 4]\n",
    "G_edges = [ (0, 1),\n",
    "            (0, 3),\n",
    "            (1, 2),\n",
    "            (1, 3),\n",
    "            (2, 3),\n",
    "            (2, 4),\n",
    "            (0, 4)]\n",
    "\n",
    "G = nx.Graph()\n",
    "G.add_nodes_from(G_nodes)\n",
    "G.add_edges_from(G_edges)"
   ],
   "outputs": [],
   "metadata": {}
  },
  {
   "cell_type": "markdown",
   "source": [
    "### 1.2. Graph drawing"
   ],
   "metadata": {}
  },
  {
   "cell_type": "code",
   "execution_count": 3,
   "source": [
    "# explicitly set positions\n",
    "pos = { \n",
    "    0: (5, 0.03),\n",
    "    1: (0, 0), \n",
    "    2: (-1, 0.3), \n",
    "    3: (2, 0.17), \n",
    "    4: (4, 0.255)}\n",
    "\n",
    "options = {\n",
    "    \"font_size\": 30,\n",
    "    \"node_size\": 1500,\n",
    "    \"node_color\": \"white\",\n",
    "    \"edgecolors\": \"grey\",\n",
    "    \"edge_color\": \"white\",\n",
    "    \"linewidths\": 3,\n",
    "    \"width\": 3,\n",
    "}\n",
    "nx.draw_networkx(G, pos, **options)"
   ],
   "outputs": [
    {
     "output_type": "display_data",
     "data": {
      "text/plain": [
       "<Figure size 432x288 with 1 Axes>"
      ],
      "image/svg+xml": "<?xml version=\"1.0\" encoding=\"utf-8\" standalone=\"no\"?>\n<!DOCTYPE svg PUBLIC \"-//W3C//DTD SVG 1.1//EN\"\n  \"http://www.w3.org/Graphics/SVG/1.1/DTD/svg11.dtd\">\n<svg height=\"231.84pt\" version=\"1.1\" viewBox=\"0 0 349.2 231.84\" width=\"349.2pt\" xmlns=\"http://www.w3.org/2000/svg\" xmlns:xlink=\"http://www.w3.org/1999/xlink\">\n <metadata>\n  <rdf:RDF xmlns:cc=\"http://creativecommons.org/ns#\" xmlns:dc=\"http://purl.org/dc/elements/1.1/\" xmlns:rdf=\"http://www.w3.org/1999/02/22-rdf-syntax-ns#\">\n   <cc:Work>\n    <dc:type rdf:resource=\"http://purl.org/dc/dcmitype/StillImage\"/>\n    <dc:date>2021-08-27T11:45:56.331038</dc:date>\n    <dc:format>image/svg+xml</dc:format>\n    <dc:creator>\n     <cc:Agent>\n      <dc:title>Matplotlib v3.4.3, https://matplotlib.org/</dc:title>\n     </cc:Agent>\n    </dc:creator>\n   </cc:Work>\n  </rdf:RDF>\n </metadata>\n <defs>\n  <style type=\"text/css\">*{stroke-linecap:butt;stroke-linejoin:round;}</style>\n </defs>\n <g id=\"figure_1\">\n  <g id=\"patch_1\">\n   <path d=\"M 0 231.84 \nL 349.2 231.84 \nL 349.2 0 \nL 0 0 \nz\n\"/>\n  </g>\n  <g id=\"axes_1\">\n   <g id=\"patch_2\">\n    <path d=\"M 7.2 224.64 \nL 342 224.64 \nL 342 7.2 \nL 7.2 7.2 \nz\n\"/>\n   </g>\n   <g id=\"LineCollection_1\">\n    <path clip-path=\"url(#p3d7114c519)\" d=\"M 312.947107 187.800992 \nL 82.368595 205.77124 \n\" style=\"fill:none;stroke:#ffffff;stroke-width:3;\"/>\n    <path clip-path=\"url(#p3d7114c519)\" d=\"M 312.947107 187.800992 \nL 174.6 103.939835 \n\" style=\"fill:none;stroke:#ffffff;stroke-width:3;\"/>\n    <path clip-path=\"url(#p3d7114c519)\" d=\"M 312.947107 187.800992 \nL 266.831405 53.024132 \n\" style=\"fill:none;stroke:#ffffff;stroke-width:3;\"/>\n    <path clip-path=\"url(#p3d7114c519)\" d=\"M 82.368595 205.77124 \nL 36.252893 26.06876 \n\" style=\"fill:none;stroke:#ffffff;stroke-width:3;\"/>\n    <path clip-path=\"url(#p3d7114c519)\" d=\"M 82.368595 205.77124 \nL 174.6 103.939835 \n\" style=\"fill:none;stroke:#ffffff;stroke-width:3;\"/>\n    <path clip-path=\"url(#p3d7114c519)\" d=\"M 36.252893 26.06876 \nL 174.6 103.939835 \n\" style=\"fill:none;stroke:#ffffff;stroke-width:3;\"/>\n    <path clip-path=\"url(#p3d7114c519)\" d=\"M 36.252893 26.06876 \nL 266.831405 53.024132 \n\" style=\"fill:none;stroke:#ffffff;stroke-width:3;\"/>\n   </g>\n   <g id=\"matplotlib.axis_1\">\n    <g id=\"xtick_1\"/>\n    <g id=\"xtick_2\"/>\n    <g id=\"xtick_3\"/>\n    <g id=\"xtick_4\"/>\n    <g id=\"xtick_5\"/>\n    <g id=\"xtick_6\"/>\n    <g id=\"xtick_7\"/>\n   </g>\n   <g id=\"matplotlib.axis_2\">\n    <g id=\"ytick_1\"/>\n    <g id=\"ytick_2\"/>\n    <g id=\"ytick_3\"/>\n    <g id=\"ytick_4\"/>\n    <g id=\"ytick_5\"/>\n    <g id=\"ytick_6\"/>\n    <g id=\"ytick_7\"/>\n   </g>\n   <g id=\"PathCollection_1\">\n    <defs>\n     <path d=\"M 0 19.364917 \nC 5.135636 19.364917 10.061621 17.324507 13.693064 13.693064 \nC 17.324507 10.061621 19.364917 5.135636 19.364917 0 \nC 19.364917 -5.135636 17.324507 -10.061621 13.693064 -13.693064 \nC 10.061621 -17.324507 5.135636 -19.364917 0 -19.364917 \nC -5.135636 -19.364917 -10.061621 -17.324507 -13.693064 -13.693064 \nC -17.324507 -10.061621 -19.364917 -5.135636 -19.364917 0 \nC -19.364917 5.135636 -17.324507 10.061621 -13.693064 13.693064 \nC -10.061621 17.324507 -5.135636 19.364917 0 19.364917 \nz\n\" id=\"m2654e4b165\" style=\"stroke:#808080;stroke-width:3;\"/>\n    </defs>\n    <g clip-path=\"url(#p3d7114c519)\">\n     <use style=\"fill:#ffffff;stroke:#808080;stroke-width:3;\" x=\"312.947107\" xlink:href=\"#m2654e4b165\" y=\"187.800992\"/>\n     <use style=\"fill:#ffffff;stroke:#808080;stroke-width:3;\" x=\"82.368595\" xlink:href=\"#m2654e4b165\" y=\"205.77124\"/>\n     <use style=\"fill:#ffffff;stroke:#808080;stroke-width:3;\" x=\"36.252893\" xlink:href=\"#m2654e4b165\" y=\"26.06876\"/>\n     <use style=\"fill:#ffffff;stroke:#808080;stroke-width:3;\" x=\"174.6\" xlink:href=\"#m2654e4b165\" y=\"103.939835\"/>\n     <use style=\"fill:#ffffff;stroke:#808080;stroke-width:3;\" x=\"266.831405\" xlink:href=\"#m2654e4b165\" y=\"53.024132\"/>\n    </g>\n   </g>\n   <g id=\"patch_3\">\n    <path d=\"M 7.2 224.64 \nL 7.2 7.2 \n\" style=\"fill:none;stroke:#ffffff;stroke-linecap:square;stroke-linejoin:miter;stroke-width:0.8;\"/>\n   </g>\n   <g id=\"patch_4\">\n    <path d=\"M 342 224.64 \nL 342 7.2 \n\" style=\"fill:none;stroke:#ffffff;stroke-linecap:square;stroke-linejoin:miter;stroke-width:0.8;\"/>\n   </g>\n   <g id=\"patch_5\">\n    <path d=\"M 7.2 224.64 \nL 342 224.64 \n\" style=\"fill:none;stroke:#ffffff;stroke-linecap:square;stroke-linejoin:miter;stroke-width:0.8;\"/>\n   </g>\n   <g id=\"patch_6\">\n    <path d=\"M 7.2 7.2 \nL 342 7.2 \n\" style=\"fill:none;stroke:#ffffff;stroke-linecap:square;stroke-linejoin:miter;stroke-width:0.8;\"/>\n   </g>\n   <g id=\"text_1\">\n    <g clip-path=\"url(#p3d7114c519)\">\n     <!-- 0 -->\n     <g transform=\"translate(303.403357 196.079117)scale(0.3 -0.3)\">\n      <defs>\n       <path d=\"M 2034 4250 \nQ 1547 4250 1301 3770 \nQ 1056 3291 1056 2328 \nQ 1056 1369 1301 889 \nQ 1547 409 2034 409 \nQ 2525 409 2770 889 \nQ 3016 1369 3016 2328 \nQ 3016 3291 2770 3770 \nQ 2525 4250 2034 4250 \nz\nM 2034 4750 \nQ 2819 4750 3233 4129 \nQ 3647 3509 3647 2328 \nQ 3647 1150 3233 529 \nQ 2819 -91 2034 -91 \nQ 1250 -91 836 529 \nQ 422 1150 422 2328 \nQ 422 3509 836 4129 \nQ 1250 4750 2034 4750 \nz\n\" id=\"DejaVuSans-30\" transform=\"scale(0.015625)\"/>\n      </defs>\n      <use xlink:href=\"#DejaVuSans-30\"/>\n     </g>\n    </g>\n   </g>\n   <g id=\"text_2\">\n    <g clip-path=\"url(#p3d7114c519)\">\n     <!-- 1 -->\n     <g transform=\"translate(72.824845 214.049365)scale(0.3 -0.3)\">\n      <defs>\n       <path d=\"M 794 531 \nL 1825 531 \nL 1825 4091 \nL 703 3866 \nL 703 4441 \nL 1819 4666 \nL 2450 4666 \nL 2450 531 \nL 3481 531 \nL 3481 0 \nL 794 0 \nL 794 531 \nz\n\" id=\"DejaVuSans-31\" transform=\"scale(0.015625)\"/>\n      </defs>\n      <use xlink:href=\"#DejaVuSans-31\"/>\n     </g>\n    </g>\n   </g>\n   <g id=\"text_3\">\n    <g clip-path=\"url(#p3d7114c519)\">\n     <!-- 2 -->\n     <g transform=\"translate(26.709143 34.346885)scale(0.3 -0.3)\">\n      <defs>\n       <path d=\"M 1228 531 \nL 3431 531 \nL 3431 0 \nL 469 0 \nL 469 531 \nQ 828 903 1448 1529 \nQ 2069 2156 2228 2338 \nQ 2531 2678 2651 2914 \nQ 2772 3150 2772 3378 \nQ 2772 3750 2511 3984 \nQ 2250 4219 1831 4219 \nQ 1534 4219 1204 4116 \nQ 875 4013 500 3803 \nL 500 4441 \nQ 881 4594 1212 4672 \nQ 1544 4750 1819 4750 \nQ 2544 4750 2975 4387 \nQ 3406 4025 3406 3419 \nQ 3406 3131 3298 2873 \nQ 3191 2616 2906 2266 \nQ 2828 2175 2409 1742 \nQ 1991 1309 1228 531 \nz\n\" id=\"DejaVuSans-32\" transform=\"scale(0.015625)\"/>\n      </defs>\n      <use xlink:href=\"#DejaVuSans-32\"/>\n     </g>\n    </g>\n   </g>\n   <g id=\"text_4\">\n    <g clip-path=\"url(#p3d7114c519)\">\n     <!-- 3 -->\n     <g transform=\"translate(165.05625 112.21796)scale(0.3 -0.3)\">\n      <defs>\n       <path d=\"M 2597 2516 \nQ 3050 2419 3304 2112 \nQ 3559 1806 3559 1356 \nQ 3559 666 3084 287 \nQ 2609 -91 1734 -91 \nQ 1441 -91 1130 -33 \nQ 819 25 488 141 \nL 488 750 \nQ 750 597 1062 519 \nQ 1375 441 1716 441 \nQ 2309 441 2620 675 \nQ 2931 909 2931 1356 \nQ 2931 1769 2642 2001 \nQ 2353 2234 1838 2234 \nL 1294 2234 \nL 1294 2753 \nL 1863 2753 \nQ 2328 2753 2575 2939 \nQ 2822 3125 2822 3475 \nQ 2822 3834 2567 4026 \nQ 2313 4219 1838 4219 \nQ 1578 4219 1281 4162 \nQ 984 4106 628 3988 \nL 628 4550 \nQ 988 4650 1302 4700 \nQ 1616 4750 1894 4750 \nQ 2613 4750 3031 4423 \nQ 3450 4097 3450 3541 \nQ 3450 3153 3228 2886 \nQ 3006 2619 2597 2516 \nz\n\" id=\"DejaVuSans-33\" transform=\"scale(0.015625)\"/>\n      </defs>\n      <use xlink:href=\"#DejaVuSans-33\"/>\n     </g>\n    </g>\n   </g>\n   <g id=\"text_5\">\n    <g clip-path=\"url(#p3d7114c519)\">\n     <!-- 4 -->\n     <g transform=\"translate(257.287655 61.302257)scale(0.3 -0.3)\">\n      <defs>\n       <path d=\"M 2419 4116 \nL 825 1625 \nL 2419 1625 \nL 2419 4116 \nz\nM 2253 4666 \nL 3047 4666 \nL 3047 1625 \nL 3713 1625 \nL 3713 1100 \nL 3047 1100 \nL 3047 0 \nL 2419 0 \nL 2419 1100 \nL 313 1100 \nL 313 1709 \nL 2253 4666 \nz\n\" id=\"DejaVuSans-34\" transform=\"scale(0.015625)\"/>\n      </defs>\n      <use xlink:href=\"#DejaVuSans-34\"/>\n     </g>\n    </g>\n   </g>\n  </g>\n </g>\n <defs>\n  <clipPath id=\"p3d7114c519\">\n   <rect height=\"217.44\" width=\"334.8\" x=\"7.2\" y=\"7.2\"/>\n  </clipPath>\n </defs>\n</svg>\n",
      "image/png": "[encoded data removed]"
     },
     "metadata": {}
    }
   ],
   "metadata": {}
  },
  {
   "cell_type": "markdown",
   "source": [
    "### 1.3. Vertex - Vertex Matrix"
   ],
   "metadata": {}
  },
  {
   "cell_type": "code",
   "execution_count": 4,
   "source": [
    "# VV is a matrix with this shape: number of nodes by number of nodes\n",
    "VV_shape = (len(G_nodes), len(G_nodes))\n",
    "# Initialize the empty VV\n",
    "VV = np.zeros(VV_shape, dtype=int)\n",
    "# iterate over the egdes\n",
    "for n1, n2 in G_edges:\n",
    "    # since the graph is undrirected we fill the matrix \n",
    "    # on both side of the diagonal line\n",
    "    VV[n1, n2] = 1 \n",
    "    VV[n2, n1] = 1\n",
    "\n",
    "# display as pandas dataframe\n",
    "display(pd.DataFrame(VV))"
   ],
   "outputs": [
    {
     "output_type": "display_data",
     "data": {
      "text/plain": [
       "   0  1  2  3  4\n",
       "0  0  1  0  1  1\n",
       "1  1  0  1  1  0\n",
       "2  0  1  0  1  1\n",
       "3  1  1  1  0  0\n",
       "4  1  0  1  0  0"
      ],
      "text/html": [
       "<div>\n",
       "<style scoped>\n",
       "    .dataframe tbody tr th:only-of-type {\n",
       "        vertical-align: middle;\n",
       "    }\n",
       "\n",
       "    .dataframe tbody tr th {\n",
       "        vertical-align: top;\n",
       "    }\n",
       "\n",
       "    .dataframe thead th {\n",
       "        text-align: right;\n",
       "    }\n",
       "</style>\n",
       "<table border=\"1\" class=\"dataframe\">\n",
       "  <thead>\n",
       "    <tr style=\"text-align: right;\">\n",
       "      <th></th>\n",
       "      <th>0</th>\n",
       "      <th>1</th>\n",
       "      <th>2</th>\n",
       "      <th>3</th>\n",
       "      <th>4</th>\n",
       "    </tr>\n",
       "  </thead>\n",
       "  <tbody>\n",
       "    <tr>\n",
       "      <th>0</th>\n",
       "      <td>0</td>\n",
       "      <td>1</td>\n",
       "      <td>0</td>\n",
       "      <td>1</td>\n",
       "      <td>1</td>\n",
       "    </tr>\n",
       "    <tr>\n",
       "      <th>1</th>\n",
       "      <td>1</td>\n",
       "      <td>0</td>\n",
       "      <td>1</td>\n",
       "      <td>1</td>\n",
       "      <td>0</td>\n",
       "    </tr>\n",
       "    <tr>\n",
       "      <th>2</th>\n",
       "      <td>0</td>\n",
       "      <td>1</td>\n",
       "      <td>0</td>\n",
       "      <td>1</td>\n",
       "      <td>1</td>\n",
       "    </tr>\n",
       "    <tr>\n",
       "      <th>3</th>\n",
       "      <td>1</td>\n",
       "      <td>1</td>\n",
       "      <td>1</td>\n",
       "      <td>0</td>\n",
       "      <td>0</td>\n",
       "    </tr>\n",
       "    <tr>\n",
       "      <th>4</th>\n",
       "      <td>1</td>\n",
       "      <td>0</td>\n",
       "      <td>1</td>\n",
       "      <td>0</td>\n",
       "      <td>0</td>\n",
       "    </tr>\n",
       "  </tbody>\n",
       "</table>\n",
       "</div>"
      ]
     },
     "metadata": {}
    }
   ],
   "metadata": {}
  },
  {
   "cell_type": "markdown",
   "source": [
    "### 1.4. Edge - Vertex Matrix"
   ],
   "metadata": {}
  },
  {
   "cell_type": "code",
   "execution_count": 5,
   "source": [
    "# EV is a matrix with this shape: number of edges by number of nodes\n",
    "EV_shape = (len(G_edges), len(G_nodes))\n",
    "# Initialize the empty EV\n",
    "EV = np.zeros(EV_shape, dtype=int)\n",
    "# iterate over the edges\n",
    "for e, (n1, n2) in enumerate(G_edges):\n",
    "    # set each element at row e and column n1, n2 to 1\n",
    "    EV[e, n1] = 1 \n",
    "    EV[e, n2] = 1 \n",
    "\n",
    "# display as pandas dataframe (tag edges in index for readability)\n",
    "pd.DataFrame(EV, index=G_edges)"
   ],
   "outputs": [
    {
     "output_type": "execute_result",
     "data": {
      "text/plain": [
       "        0  1  2  3  4\n",
       "(0, 1)  1  1  0  0  0\n",
       "(0, 3)  1  0  0  1  0\n",
       "(1, 2)  0  1  1  0  0\n",
       "(1, 3)  0  1  0  1  0\n",
       "(2, 3)  0  0  1  1  0\n",
       "(2, 4)  0  0  1  0  1\n",
       "(0, 4)  1  0  0  0  1"
      ],
      "text/html": [
       "<div>\n",
       "<style scoped>\n",
       "    .dataframe tbody tr th:only-of-type {\n",
       "        vertical-align: middle;\n",
       "    }\n",
       "\n",
       "    .dataframe tbody tr th {\n",
       "        vertical-align: top;\n",
       "    }\n",
       "\n",
       "    .dataframe thead th {\n",
       "        text-align: right;\n",
       "    }\n",
       "</style>\n",
       "<table border=\"1\" class=\"dataframe\">\n",
       "  <thead>\n",
       "    <tr style=\"text-align: right;\">\n",
       "      <th></th>\n",
       "      <th>0</th>\n",
       "      <th>1</th>\n",
       "      <th>2</th>\n",
       "      <th>3</th>\n",
       "      <th>4</th>\n",
       "    </tr>\n",
       "  </thead>\n",
       "  <tbody>\n",
       "    <tr>\n",
       "      <th>(0, 1)</th>\n",
       "      <td>1</td>\n",
       "      <td>1</td>\n",
       "      <td>0</td>\n",
       "      <td>0</td>\n",
       "      <td>0</td>\n",
       "    </tr>\n",
       "    <tr>\n",
       "      <th>(0, 3)</th>\n",
       "      <td>1</td>\n",
       "      <td>0</td>\n",
       "      <td>0</td>\n",
       "      <td>1</td>\n",
       "      <td>0</td>\n",
       "    </tr>\n",
       "    <tr>\n",
       "      <th>(1, 2)</th>\n",
       "      <td>0</td>\n",
       "      <td>1</td>\n",
       "      <td>1</td>\n",
       "      <td>0</td>\n",
       "      <td>0</td>\n",
       "    </tr>\n",
       "    <tr>\n",
       "      <th>(1, 3)</th>\n",
       "      <td>0</td>\n",
       "      <td>1</td>\n",
       "      <td>0</td>\n",
       "      <td>1</td>\n",
       "      <td>0</td>\n",
       "    </tr>\n",
       "    <tr>\n",
       "      <th>(2, 3)</th>\n",
       "      <td>0</td>\n",
       "      <td>0</td>\n",
       "      <td>1</td>\n",
       "      <td>1</td>\n",
       "      <td>0</td>\n",
       "    </tr>\n",
       "    <tr>\n",
       "      <th>(2, 4)</th>\n",
       "      <td>0</td>\n",
       "      <td>0</td>\n",
       "      <td>1</td>\n",
       "      <td>0</td>\n",
       "      <td>1</td>\n",
       "    </tr>\n",
       "    <tr>\n",
       "      <th>(0, 4)</th>\n",
       "      <td>1</td>\n",
       "      <td>0</td>\n",
       "      <td>0</td>\n",
       "      <td>0</td>\n",
       "      <td>1</td>\n",
       "    </tr>\n",
       "  </tbody>\n",
       "</table>\n",
       "</div>"
      ]
     },
     "metadata": {},
     "execution_count": 5
    }
   ],
   "metadata": {}
  },
  {
   "cell_type": "markdown",
   "source": [
    "### 1.5. Edge - Edge Matrix "
   ],
   "metadata": {}
  },
  {
   "cell_type": "code",
   "execution_count": 6,
   "source": [
    "# EE is a matrix with this shape: number of edges by number of edges\n",
    "EE_shape = (len(G_edges), len(G_edges))\n",
    "# Initialize the empty EE\n",
    "EE = np.zeros(EE_shape, dtype=int)\n",
    "# iterate over the edges\n",
    "for e1 ,(n11, n12) in enumerate(G_edges):\n",
    "    # for each edge, iterate over the edges\n",
    "    for e2 ,(n21, n22) in enumerate(G_edges):\n",
    "        # if they shared any node... (Q+): how are we checking that? in what situation this method will not work properly?\n",
    "        if (n11-n21) * (n11-n22) * (n12-n21) * (n12-n22) == 0:\n",
    "            # set those edges as adjacent\n",
    "            EE[e1, e2] = 1\n",
    "\n",
    "# subtract the identity matrix since each edge does have nodes in common \n",
    "# with itself, but is not considered adjacent to itself\n",
    "EE -= np.identity(len(G_edges), dtype=int)\n",
    "# display as pandas dataframe (tag edges in index and columns for readability)\n",
    "pd.DataFrame(EE, index=G_edges, columns=G_edges)"
   ],
   "outputs": [
    {
     "output_type": "execute_result",
     "data": {
      "text/plain": [
       "        (0, 1)  (0, 3)  (1, 2)  (1, 3)  (2, 3)  (2, 4)  (0, 4)\n",
       "(0, 1)       0       1       1       1       0       0       1\n",
       "(0, 3)       1       0       0       1       1       0       1\n",
       "(1, 2)       1       0       0       1       1       1       0\n",
       "(1, 3)       1       1       1       0       1       0       0\n",
       "(2, 3)       0       1       1       1       0       1       0\n",
       "(2, 4)       0       0       1       0       1       0       1\n",
       "(0, 4)       1       1       0       0       0       1       0"
      ],
      "text/html": [
       "<div>\n",
       "<style scoped>\n",
       "    .dataframe tbody tr th:only-of-type {\n",
       "        vertical-align: middle;\n",
       "    }\n",
       "\n",
       "    .dataframe tbody tr th {\n",
       "        vertical-align: top;\n",
       "    }\n",
       "\n",
       "    .dataframe thead th {\n",
       "        text-align: right;\n",
       "    }\n",
       "</style>\n",
       "<table border=\"1\" class=\"dataframe\">\n",
       "  <thead>\n",
       "    <tr style=\"text-align: right;\">\n",
       "      <th></th>\n",
       "      <th>(0, 1)</th>\n",
       "      <th>(0, 3)</th>\n",
       "      <th>(1, 2)</th>\n",
       "      <th>(1, 3)</th>\n",
       "      <th>(2, 3)</th>\n",
       "      <th>(2, 4)</th>\n",
       "      <th>(0, 4)</th>\n",
       "    </tr>\n",
       "  </thead>\n",
       "  <tbody>\n",
       "    <tr>\n",
       "      <th>(0, 1)</th>\n",
       "      <td>0</td>\n",
       "      <td>1</td>\n",
       "      <td>1</td>\n",
       "      <td>1</td>\n",
       "      <td>0</td>\n",
       "      <td>0</td>\n",
       "      <td>1</td>\n",
       "    </tr>\n",
       "    <tr>\n",
       "      <th>(0, 3)</th>\n",
       "      <td>1</td>\n",
       "      <td>0</td>\n",
       "      <td>0</td>\n",
       "      <td>1</td>\n",
       "      <td>1</td>\n",
       "      <td>0</td>\n",
       "      <td>1</td>\n",
       "    </tr>\n",
       "    <tr>\n",
       "      <th>(1, 2)</th>\n",
       "      <td>1</td>\n",
       "      <td>0</td>\n",
       "      <td>0</td>\n",
       "      <td>1</td>\n",
       "      <td>1</td>\n",
       "      <td>1</td>\n",
       "      <td>0</td>\n",
       "    </tr>\n",
       "    <tr>\n",
       "      <th>(1, 3)</th>\n",
       "      <td>1</td>\n",
       "      <td>1</td>\n",
       "      <td>1</td>\n",
       "      <td>0</td>\n",
       "      <td>1</td>\n",
       "      <td>0</td>\n",
       "      <td>0</td>\n",
       "    </tr>\n",
       "    <tr>\n",
       "      <th>(2, 3)</th>\n",
       "      <td>0</td>\n",
       "      <td>1</td>\n",
       "      <td>1</td>\n",
       "      <td>1</td>\n",
       "      <td>0</td>\n",
       "      <td>1</td>\n",
       "      <td>0</td>\n",
       "    </tr>\n",
       "    <tr>\n",
       "      <th>(2, 4)</th>\n",
       "      <td>0</td>\n",
       "      <td>0</td>\n",
       "      <td>1</td>\n",
       "      <td>0</td>\n",
       "      <td>1</td>\n",
       "      <td>0</td>\n",
       "      <td>1</td>\n",
       "    </tr>\n",
       "    <tr>\n",
       "      <th>(0, 4)</th>\n",
       "      <td>1</td>\n",
       "      <td>1</td>\n",
       "      <td>0</td>\n",
       "      <td>0</td>\n",
       "      <td>0</td>\n",
       "      <td>1</td>\n",
       "      <td>0</td>\n",
       "    </tr>\n",
       "  </tbody>\n",
       "</table>\n",
       "</div>"
      ]
     },
     "metadata": {},
     "execution_count": 6
    }
   ],
   "metadata": {}
  },
  {
   "cell_type": "markdown",
   "source": [
    "### 1.6. Vertex-Vertex Matrixc in networkx"
   ],
   "metadata": {}
  },
  {
   "cell_type": "code",
   "execution_count": 7,
   "source": [
    "# you can also extract the VV matrix from networkx.\n",
    "# notice the nodelist property, it specifies the order \n",
    "# of nodes in the rows and columns of the matrix\n",
    "VV_ = nx.linalg.graphmatrix.adjacency_matrix(G, nodelist=G_nodes)\n",
    "# convert sparse matrix to dense matrix and display it with pandas\n",
    "pd.DataFrame(VV_.todense())"
   ],
   "outputs": [
    {
     "output_type": "execute_result",
     "data": {
      "text/plain": [
       "   0  1  2  3  4\n",
       "0  0  1  0  1  1\n",
       "1  1  0  1  1  0\n",
       "2  0  1  0  1  1\n",
       "3  1  1  1  0  0\n",
       "4  1  0  1  0  0"
      ],
      "text/html": [
       "<div>\n",
       "<style scoped>\n",
       "    .dataframe tbody tr th:only-of-type {\n",
       "        vertical-align: middle;\n",
       "    }\n",
       "\n",
       "    .dataframe tbody tr th {\n",
       "        vertical-align: top;\n",
       "    }\n",
       "\n",
       "    .dataframe thead th {\n",
       "        text-align: right;\n",
       "    }\n",
       "</style>\n",
       "<table border=\"1\" class=\"dataframe\">\n",
       "  <thead>\n",
       "    <tr style=\"text-align: right;\">\n",
       "      <th></th>\n",
       "      <th>0</th>\n",
       "      <th>1</th>\n",
       "      <th>2</th>\n",
       "      <th>3</th>\n",
       "      <th>4</th>\n",
       "    </tr>\n",
       "  </thead>\n",
       "  <tbody>\n",
       "    <tr>\n",
       "      <th>0</th>\n",
       "      <td>0</td>\n",
       "      <td>1</td>\n",
       "      <td>0</td>\n",
       "      <td>1</td>\n",
       "      <td>1</td>\n",
       "    </tr>\n",
       "    <tr>\n",
       "      <th>1</th>\n",
       "      <td>1</td>\n",
       "      <td>0</td>\n",
       "      <td>1</td>\n",
       "      <td>1</td>\n",
       "      <td>0</td>\n",
       "    </tr>\n",
       "    <tr>\n",
       "      <th>2</th>\n",
       "      <td>0</td>\n",
       "      <td>1</td>\n",
       "      <td>0</td>\n",
       "      <td>1</td>\n",
       "      <td>1</td>\n",
       "    </tr>\n",
       "    <tr>\n",
       "      <th>3</th>\n",
       "      <td>1</td>\n",
       "      <td>1</td>\n",
       "      <td>1</td>\n",
       "      <td>0</td>\n",
       "      <td>0</td>\n",
       "    </tr>\n",
       "    <tr>\n",
       "      <th>4</th>\n",
       "      <td>1</td>\n",
       "      <td>0</td>\n",
       "      <td>1</td>\n",
       "      <td>0</td>\n",
       "      <td>0</td>\n",
       "    </tr>\n",
       "  </tbody>\n",
       "</table>\n",
       "</div>"
      ]
     },
     "metadata": {},
     "execution_count": 7
    }
   ],
   "metadata": {}
  },
  {
   "cell_type": "markdown",
   "source": [
    "### 1.7. Activity Relationship Chart (ARC)"
   ],
   "metadata": {}
  },
  {
   "cell_type": "code",
   "execution_count": 8,
   "source": [
    "# TODO explain Activity Relationship Chart (REL Chart) \n",
    "# https://en.wikipedia.org/wiki/Activity_relationship_chart"
   ],
   "outputs": [],
   "metadata": {}
  },
  {
   "cell_type": "markdown",
   "source": [
    "## 2. Fields"
   ],
   "metadata": {}
  },
  {
   "cell_type": "markdown",
   "source": [
    "### 2.1. Construct a lattice"
   ],
   "metadata": {}
  },
  {
   "cell_type": "code",
   "execution_count": 32,
   "source": [
    "# import the streetnetwork as a point cloud\n",
    "street_network_pc = tg.cloud_from_csv(\"../data/streetnetwork_pointcloud.csv\")\n",
    "\n",
    "# construct the lattice from voxelating the point cloud \n",
    "street_network_lattice = street_network_pc.voxelate([12, 12, 12], closed=True)"
   ],
   "outputs": [],
   "metadata": {}
  },
  {
   "cell_type": "code",
   "execution_count": 33,
   "source": [
    "street_network_lattice.shape"
   ],
   "outputs": [
    {
     "output_type": "execute_result",
     "data": {
      "text/plain": [
       "(142, 93, 3)"
      ]
     },
     "metadata": {},
     "execution_count": 33
    }
   ],
   "metadata": {}
  },
  {
   "cell_type": "markdown",
   "source": [
    "### 2.2. Visualize the lattice"
   ],
   "metadata": {}
  },
  {
   "cell_type": "code",
   "execution_count": 34,
   "source": [
    "# initiating the plotter\n",
    "p = pv.PlotterITK() # ITK plotter for interactivity within the python notebook (itkwidgets library is required)\n",
    "\n",
    "# fast visualization of the point cloud\n",
    "street_network_pc.fast_notebook_vis(p)\n",
    "\n",
    "# fast visualization of the lattice\n",
    "street_network_lattice.fast_notebook_vis(p, show_outline=True, show_centroids=True)\n",
    "\n",
    "# Set a camera position\n",
    "p.camera_position = [(0.25, 0.18, 0.5), (0, .1, 0), (0, 1, 0)]\n",
    "\n",
    "# plotting\n",
    "p.show()"
   ],
   "outputs": [
    {
     "output_type": "display_data",
     "data": {
      "text/plain": [
       "Viewer(camera=array([[0.25, 0.18, 0.5 ],\n",
       "       [0.  , 0.1 , 0.  ],\n",
       "       [0.  , 1.  , 0.  ]], dtype=float32)…"
      ],
      "application/vnd.jupyter.widget-view+json": {
       "version_major": 2,
       "version_minor": 0,
       "model_id": "f2d4dd73cfec48f28e9c8b0734b41ed5"
      }
     },
     "metadata": {}
    },
    {
     "output_type": "display_data",
     "data": {
      "text/plain": [
       "Viewer(camera=array([[0.25, 0.18, 0.5 ],\n",
       "       [0.  , 0.1 , 0.  ],\n",
       "       [0.  , 1.  , 0.  ]], dtype=float32)…"
      ],
      "application/vnd.jupyter.widget-view+json": {
       "version_major": 2,
       "version_minor": 0,
       "model_id": "f2d4dd73cfec48f28e9c8b0734b41ed5"
      }
     },
     "metadata": {}
    }
   ],
   "metadata": {}
  },
  {
   "cell_type": "markdown",
   "source": [
    "### 2.3. Construct distance field"
   ],
   "metadata": {}
  },
  {
   "cell_type": "code",
   "execution_count": null,
   "source": [],
   "outputs": [],
   "metadata": {}
  },
  {
   "cell_type": "code",
   "execution_count": 12,
   "source": [
    "# TODO Explain poincare duality on lattices\n",
    "# TODO Explain shortest distance\n",
    "# TODO Construct the distance lattice"
   ],
   "outputs": [],
   "metadata": {}
  },
  {
   "cell_type": "markdown",
   "source": [
    "## 3. Spatial Networks"
   ],
   "metadata": {}
  },
  {
   "cell_type": "markdown",
   "source": [
    "## Credits"
   ],
   "metadata": {}
  },
  {
   "cell_type": "code",
   "execution_count": 13,
   "source": [
    "__author__ = \"Shervin Azadi\"\n",
    "__license__ = \"MIT\"\n",
    "__version__ = \"1.0\"\n",
    "__url__ = \"https://github.com/shervinazadi/earthy_workshops\"\n",
    "__summary__ = \"Earthy Design Studio\""
   ],
   "outputs": [],
   "metadata": {}
  }
 ],
 "metadata": {
  "orig_nbformat": 4,
  "language_info": {
   "name": "python",
   "version": "3.8.5",
   "mimetype": "text/x-python",
   "codemirror_mode": {
    "name": "ipython",
    "version": 3
   },
   "pygments_lexer": "ipython3",
   "nbconvert_exporter": "python",
   "file_extension": ".py"
  },
  "kernelspec": {
   "name": "python3",
   "display_name": "Python 3.8.5 64-bit ('earthy': conda)"
  },
  "interpreter": {
   "hash": "6a9983edd6343d9d7472c527d6fcc61324940c388a3481e05c81688fc90d2d61"
  }
 },
 "nbformat": 4,
 "nbformat_minor": 2
}