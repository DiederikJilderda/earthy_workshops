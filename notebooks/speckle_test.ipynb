{
 "cells": [
  {
   "cell_type": "code",
   "execution_count": 1,
   "source": [
    "from specklepy.api.client import SpeckleClient\n",
    "from specklepy.api.credentials import get_default_account, get_local_accounts"
   ],
   "outputs": [],
   "metadata": {}
  },
  {
   "cell_type": "code",
   "execution_count": 11,
   "source": [
    "# initialise the client\n",
    "# client = SpeckleClient(host=\"your-server.com\") # or whatever your host is\n",
    "client = SpeckleClient(host=\"speckle.xyz\", use_ssl=True)\n",
    "\n",
    "# authenticate the client with a token\n",
    "account = get_default_account()\n",
    "client.authenticate(token=account.token)"
   ],
   "outputs": [],
   "metadata": {}
  },
  {
   "cell_type": "code",
   "execution_count": 12,
   "source": [
    "# create a new stream. this returns the stream id\n",
    "new_stream_id = client.stream.create(name=\"a shiny new stream\")"
   ],
   "outputs": [],
   "metadata": {}
  },
  {
   "cell_type": "code",
   "execution_count": 13,
   "source": [
    "# use that stream id to get the stream from the server\n",
    "new_stream = client.stream.get(id=new_stream_id)"
   ],
   "outputs": [],
   "metadata": {}
  },
  {
   "cell_type": "code",
   "execution_count": 15,
   "source": [
    "from specklepy.objects import Base\n",
    "from specklepy.objects.geometry import Point\n",
    "\n",
    "class Block(Base):\n",
    "    length: float = 1.0\n",
    "    width: float = 1.0\n",
    "    height: float = 1.0\n",
    "    origin: Point = Point()\n",
    "\n",
    "    def __init__(self, **kwargs) -> None:\n",
    "        super().__init__(**kwargs)\n",
    "        # mark the origin as a detachable attribute\n",
    "        self.add_detachable_attrs(\"origin\")"
   ],
   "outputs": [],
   "metadata": {}
  },
  {
   "cell_type": "code",
   "execution_count": 38,
   "source": [
    "from specklepy.transports.server import ServerTransport\n",
    "from specklepy.transports.memory import MemoryTransport\n",
    "from specklepy.transports.sqlite import SQLiteTransport\n",
    "from specklepy.api import operations\n",
    "\n",
    "# here's the data you want to send\n",
    "block = Block(length=2, height=5)\n",
    "\n",
    "# next create a server transport - this is the vehicle through which you will send and receive\n",
    "transport = ServerTransport(client=client, stream_id=new_stream_id)\n",
    "\n",
    "# this serialises the block and sends it to the transport\n",
    "hash = operations.send(base=block, transports=[transport])\n",
    "\n",
    "# you can now create a commit on your stream with this object\n",
    "commid_id = client.commit.create(\n",
    "    new_stream_id, \n",
    "    hash, \n",
    "    \"this is a block I made in speckle-py\",\n",
    "    )"
   ],
   "outputs": [],
   "metadata": {}
  },
  {
   "cell_type": "code",
   "execution_count": 39,
   "source": [
    "# this receives the object back from the transport.\n",
    "# the received data will be deserialised back into a `Block` \n",
    "received_base = operations.receive(obj_id=hash, remote_transport=transport)\n",
    "received_base.height"
   ],
   "outputs": [
    {
     "output_type": "execute_result",
     "data": {
      "text/plain": [
       "5.0"
      ]
     },
     "metadata": {},
     "execution_count": 39
    }
   ],
   "metadata": {}
  },
  {
   "cell_type": "code",
   "execution_count": 44,
   "source": [
    "transport.get_object"
   ],
   "outputs": [
    {
     "output_type": "execute_result",
     "data": {
      "text/plain": [
       "<bound method ServerTransport.get_object of ServerTransport(url='https://speckle.xyz', stream_id='db01c43fbd', saved_obj_count=0, session=<requests.sessions.Session object at 0x7fed68f2f790>, _batch_sender=<specklepy.transports.server.batch_sender.BatchSender object at 0x7fed68f2f6d0>)>"
      ]
     },
     "metadata": {},
     "execution_count": 44
    }
   ],
   "metadata": {}
  },
  {
   "cell_type": "code",
   "execution_count": 25,
   "source": [
    "# get list of commits\n",
    "client.commit.list(new_stream_id)"
   ],
   "outputs": [
    {
     "output_type": "execute_result",
     "data": {
      "text/plain": [
       "[]"
      ]
     },
     "metadata": {},
     "execution_count": 25
    }
   ],
   "metadata": {}
  },
  {
   "cell_type": "code",
   "execution_count": null,
   "source": [],
   "outputs": [],
   "metadata": {}
  }
 ],
 "metadata": {
  "orig_nbformat": 4,
  "language_info": {
   "name": "python"
  }
 },
 "nbformat": 4,
 "nbformat_minor": 2
}