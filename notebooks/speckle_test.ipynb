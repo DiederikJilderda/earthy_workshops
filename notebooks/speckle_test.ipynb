{
 "cells": [
  {
   "cell_type": "code",
   "execution_count": 1,
   "source": [
    "from specklepy.api.client import SpeckleClient\n",
    "from specklepy.api.credentials import get_default_account, get_local_accounts"
   ],
   "outputs": [],
   "metadata": {}
  },
  {
   "cell_type": "code",
   "execution_count": 2,
   "source": [
    "# initialise the client\n",
    "# client = SpeckleClient(host=\"your-server.com\") # or whatever your host is\n",
    "client = SpeckleClient(host=\"speckle.xyz\", use_ssl=True)\n",
    "\n",
    "# authenticate the client with a token\n",
    "account = get_default_account()\n",
    "client.authenticate(token=account.token)"
   ],
   "outputs": [],
   "metadata": {}
  },
  {
   "cell_type": "code",
   "execution_count": 3,
   "source": [
    "# create a new stream. this returns the stream id\n",
    "new_stream_id = client.stream.create(name=\"earthy_test_2\")"
   ],
   "outputs": [],
   "metadata": {}
  },
  {
   "cell_type": "code",
   "execution_count": 4,
   "source": [
    "# use that stream id to get the stream from the server\n",
    "new_stream = client.stream.get(id=new_stream_id)"
   ],
   "outputs": [],
   "metadata": {}
  },
  {
   "cell_type": "code",
   "execution_count": 12,
   "source": [
    "from specklepy.objects import Base\n",
    "from specklepy.objects.geometry import Point, Box, Vector, Plane, Interval\n",
    "\n",
    "class Block(Base):\n",
    "    length: float = 1.0\n",
    "    width: float = 1.0\n",
    "    height: float = 1.0\n",
    "    origin: Point = Point()\n",
    "\n",
    "    def __init__(self, **kwargs) -> None:\n",
    "        super().__init__(**kwargs)\n",
    "        # mark the origin as a detachable attribute\n",
    "        self.add_detachable_attrs(\"origin\")"
   ],
   "outputs": [],
   "metadata": {}
  },
  {
   "cell_type": "code",
   "execution_count": 24,
   "source": [
    "from specklepy.transports.server import ServerTransport\n",
    "# from specklepy.transports.memory import MemoryTransport\n",
    "# from specklepy.transports.sqlite import SQLiteTransport\n",
    "from specklepy.api import operations\n",
    "\n",
    "# here's the data you want to send\n",
    "# block = Block(length=2, height=22)\n",
    "origin_point = Point(x=0, y=0, z=0)\n",
    "x_dir = Vector(x=1, y=0, z=0)\n",
    "y_dir = Vector(x=0, y=1, z=0)\n",
    "z_dir = Vector(x=0, y=0, z=1)\n",
    "base_plane = Plane(origin=origin_point, normal=z_dir, xdir=x_dir, ydir=y_dir)\n",
    "x_interval = Interval(start=0, end=1)\n",
    "y_interval = Interval(start=0, end=3)\n",
    "z_interval = Interval(start=0, end=1)\n",
    "mybox = Box(basePlane=base_plane, xSize=x_interval, ySize=y_interval, zSize=z_interval)\n",
    "# block = Block(length=2, height=22)"
   ],
   "outputs": [],
   "metadata": {}
  },
  {
   "cell_type": "code",
   "execution_count": 28,
   "source": [
    "\n",
    "\n",
    "# next create a server transport - this is the vehicle through which you will send and receive\n",
    "transport = ServerTransport(client=client, stream_id=new_stream_id)\n",
    "\n",
    "# this serialises the block and sends it to the transport\n",
    "hash = operations.send(base=mybox, transports=[transport])\n",
    "\n",
    "# you can now create a commit on your stream with this object\n",
    "commid_id = client.commit.create(\n",
    "    stream_id=new_stream_id, \n",
    "    object_id=hash, \n",
    "    message=\"new box\",\n",
    "    )"
   ],
   "outputs": [],
   "metadata": {}
  },
  {
   "cell_type": "code",
   "execution_count": 49,
   "source": [
    "# this receives the object back from the transport.\n",
    "# the received data will be deserialised back into a `Block` \n",
    "received_base = operations.receive(obj_id=hash, remote_transport=transport)\n",
    "received_base.height"
   ],
   "outputs": [
    {
     "output_type": "execute_result",
     "data": {
      "text/plain": [
       "12.0"
      ]
     },
     "metadata": {},
     "execution_count": 49
    }
   ],
   "metadata": {}
  },
  {
   "cell_type": "code",
   "execution_count": 50,
   "source": [
    "# get list of commits\n",
    "client.commit.list(new_stream_id)"
   ],
   "outputs": [
    {
     "output_type": "execute_result",
     "data": {
      "text/plain": [
       "[Commit( id: 2f4644fb4f, message: this is a block I made in speckle-py, referencedObject: 7c79b716f43c12dcea442c10e1c5c027, authorName: Shervin Azadi, createdAt: 2021-07-15T15:58:12.199Z ),\n",
       " Commit( id: 5b418686ee, message: this is a block I made in speckle-py, referencedObject: 4250fb1b7fd2d368662655036c7b23ec, authorName: Shervin Azadi, createdAt: 2021-07-15T15:56:42.381Z )]"
      ]
     },
     "metadata": {},
     "execution_count": 50
    }
   ],
   "metadata": {}
  },
  {
   "cell_type": "code",
   "execution_count": 9,
   "source": [
    "import specklepy.objects.geometry as sog\n"
   ],
   "outputs": [],
   "metadata": {}
  },
  {
   "cell_type": "code",
   "execution_count": null,
   "source": [
    "sog."
   ],
   "outputs": [],
   "metadata": {}
  }
 ],
 "metadata": {
  "orig_nbformat": 4,
  "language_info": {
   "name": "python"
  }
 },
 "nbformat": 4,
 "nbformat_minor": 2
}